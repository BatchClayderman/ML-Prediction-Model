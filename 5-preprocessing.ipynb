{
 "cells": [
  {
   "cell_type": "code",
   "execution_count": 1,
   "metadata": {},
   "outputs": [],
   "source": [
    "import pandas as pd\n",
    "import matplotlib.pyplot as plt\n",
    "from scipy import stats\n",
    "import numpy as np\n",
    "from sklearn.svm import SVC\n",
    "from sklearn.linear_model import LogisticRegression\n",
    "from sklearn.ensemble import AdaBoostClassifier\n",
    "from sklearn.ensemble import RandomForestClassifier, RandomForestRegressor\n",
    "from sklearn.pipeline import Pipeline\n",
    "from sklearn.model_selection import cross_val_score\n",
    "from sklearn.model_selection import GridSearchCV\n",
    "import pandas_profiling as ppf\n",
    "pd.set_option('display.max_columns', None) #show all columns\n",
    "pd.set_option('max_colwidth',None)"
   ]
  },
  {
   "cell_type": "code",
   "execution_count": 2,
   "metadata": {},
   "outputs": [],
   "source": [
    "#to set a drop_list to drop the columns in this list\n",
    "drop_list=['glucose_min','glucose_max','wbc_min','wbc_max','platelet_max','platelet_min',\n",
    "          'potassium_min','potassium_max','sodium_min','sodium_max','creatinine_min','creatinine_max',\n",
    "          'bun_min','bun_max','hospital_expire_flag','has_chartevents_data',\n",
    "          'expire_flag','admission_type','admission_location','discharge_location',\n",
    "          'insurance','language','religion','marital_status','diagnosis','dbsource',\n",
    "          'last_careunit','vasopressin_duration','sirs','apsiii','rrt','urineoutput',\n",
    "          'lods','aniongap_min','aniongap_max','bands_min','bands_max', 'bicarbonate_min', 'bicarbonate_max', 'bilirubin_min',\n",
    "       'bilirubin_max', 'chloride_min', 'chloride_max', 'hematocrit_min',\n",
    "       'hematocrit_max','ptt_min', 'ptt_max', 'inr_min', 'inr_max', 'pt_min',\n",
    "       'pt_max','spo2_mean', 'mingcs', 'infection',\n",
    "       'explicit_sepsis', 'organ_dysfunction', 'mech_vent', 'angus',\n",
    "       'aado2_mean', 'baseexcess_mean', 'bicarbonate_mean', 'totalco2_mean',\n",
    "       'carboxyhemoglobin_mean', 'chloride_mean', 'calcium_mean', 'peep_mean',\n",
    "          'methemoglobin_mean', 'o2flow_mean', 'fio2_mean',\n",
    "       'so2_mean','hematocrit_mean', 'intubated_mean','requiredo2_mean', 'tidalvolume_mean',\n",
    "          'sodium_mean','C-reactive protein.csv','lymphocyte_count.csv','glucose_mean',\n",
    "          'lactate_min','lactate_max','temperature_mean']"
   ]
  },
  {
   "cell_type": "code",
   "execution_count": 3,
   "metadata": {},
   "outputs": [
    {
     "ename": "KeyError",
     "evalue": "\"['glucose_min' 'glucose_max' 'wbc_min' 'wbc_max' 'platelet_max'\\n 'platelet_min' 'potassium_min' 'potassium_max' 'sodium_min' 'sodium_max'\\n 'creatinine_min' 'creatinine_max' 'bun_min' 'bun_max'\\n 'hospital_expire_flag' 'has_chartevents_data' 'expire_flag'\\n 'admission_type' 'admission_location' 'discharge_location' 'insurance'\\n 'language' 'religion' 'marital_status' 'diagnosis' 'dbsource'\\n 'last_careunit' 'vasopressin_duration' 'aniongap_min' 'aniongap_max'\\n 'bands_min' 'bands_max' 'bicarbonate_min' 'bicarbonate_max'\\n 'bilirubin_min' 'bilirubin_max' 'chloride_min' 'chloride_max'\\n 'hematocrit_min' 'hematocrit_max' 'ptt_min' 'ptt_max' 'inr_min' 'inr_max'\\n 'pt_min' 'pt_max' 'spo2_mean' 'aado2_mean' 'baseexcess_mean'\\n 'bicarbonate_mean' 'totalco2_mean' 'carboxyhemoglobin_mean'\\n 'chloride_mean' 'calcium_mean' 'peep_mean' 'methemoglobin_mean'\\n 'o2flow_mean' 'fio2_mean' 'so2_mean' 'hematocrit_mean' 'intubated_mean'\\n 'requiredo2_mean' 'tidalvolume_mean' 'sodium_mean'\\n 'C-reactive protein.csv' 'lymphocyte_count.csv' 'glucose_mean'\\n 'lactate_min' 'lactate_max' 'temperature_mean'] not found in axis\"",
     "output_type": "error",
     "traceback": [
      "\u001b[1;31m---------------------------------------------------------------------------\u001b[0m",
      "\u001b[1;31mKeyError\u001b[0m                                  Traceback (most recent call last)",
      "\u001b[1;32m<ipython-input-3-adb63e851103>\u001b[0m in \u001b[0;36m<module>\u001b[1;34m\u001b[0m\n\u001b[0;32m      1\u001b[0m \u001b[0mfinal_tableV8\u001b[0m\u001b[1;33m=\u001b[0m\u001b[0mpd\u001b[0m\u001b[1;33m.\u001b[0m\u001b[0mread_csv\u001b[0m\u001b[1;33m(\u001b[0m\u001b[1;34m'result/final_tableV5.csv'\u001b[0m\u001b[1;33m)\u001b[0m\u001b[1;33m\u001b[0m\u001b[1;33m\u001b[0m\u001b[0m\n\u001b[1;32m----> 2\u001b[1;33m \u001b[0mfinal_tableV8\u001b[0m\u001b[1;33m.\u001b[0m\u001b[0mdrop\u001b[0m\u001b[1;33m(\u001b[0m\u001b[0mdrop_list\u001b[0m\u001b[1;33m,\u001b[0m \u001b[0maxis\u001b[0m\u001b[1;33m=\u001b[0m\u001b[1;36m1\u001b[0m\u001b[1;33m,\u001b[0m \u001b[0minplace\u001b[0m\u001b[1;33m=\u001b[0m\u001b[1;32mTrue\u001b[0m\u001b[1;33m)\u001b[0m\u001b[1;33m\u001b[0m\u001b[1;33m\u001b[0m\u001b[0m\n\u001b[0m\u001b[0;32m      3\u001b[0m \u001b[1;31m#remove children samples\u001b[0m\u001b[1;33m\u001b[0m\u001b[1;33m\u001b[0m\u001b[1;33m\u001b[0m\u001b[0m\n\u001b[0;32m      4\u001b[0m \u001b[1;31m#final_tableV8.drop(final_tableV8[final_tableV8['age']<18].index, inplace=True)#drop samples whose age is lesser than 18\u001b[0m\u001b[1;33m\u001b[0m\u001b[1;33m\u001b[0m\u001b[1;33m\u001b[0m\u001b[0m\n",
      "\u001b[1;32md:\\program files\\python36\\lib\\site-packages\\pandas\\core\\frame.py\u001b[0m in \u001b[0;36mdrop\u001b[1;34m(self, labels, axis, index, columns, level, inplace, errors)\u001b[0m\n\u001b[0;32m   4168\u001b[0m             \u001b[0mlevel\u001b[0m\u001b[1;33m=\u001b[0m\u001b[0mlevel\u001b[0m\u001b[1;33m,\u001b[0m\u001b[1;33m\u001b[0m\u001b[1;33m\u001b[0m\u001b[0m\n\u001b[0;32m   4169\u001b[0m             \u001b[0minplace\u001b[0m\u001b[1;33m=\u001b[0m\u001b[0minplace\u001b[0m\u001b[1;33m,\u001b[0m\u001b[1;33m\u001b[0m\u001b[1;33m\u001b[0m\u001b[0m\n\u001b[1;32m-> 4170\u001b[1;33m             \u001b[0merrors\u001b[0m\u001b[1;33m=\u001b[0m\u001b[0merrors\u001b[0m\u001b[1;33m,\u001b[0m\u001b[1;33m\u001b[0m\u001b[1;33m\u001b[0m\u001b[0m\n\u001b[0m\u001b[0;32m   4171\u001b[0m         )\n\u001b[0;32m   4172\u001b[0m \u001b[1;33m\u001b[0m\u001b[0m\n",
      "\u001b[1;32md:\\program files\\python36\\lib\\site-packages\\pandas\\core\\generic.py\u001b[0m in \u001b[0;36mdrop\u001b[1;34m(self, labels, axis, index, columns, level, inplace, errors)\u001b[0m\n\u001b[0;32m   3885\u001b[0m         \u001b[1;32mfor\u001b[0m \u001b[0maxis\u001b[0m\u001b[1;33m,\u001b[0m \u001b[0mlabels\u001b[0m \u001b[1;32min\u001b[0m \u001b[0maxes\u001b[0m\u001b[1;33m.\u001b[0m\u001b[0mitems\u001b[0m\u001b[1;33m(\u001b[0m\u001b[1;33m)\u001b[0m\u001b[1;33m:\u001b[0m\u001b[1;33m\u001b[0m\u001b[1;33m\u001b[0m\u001b[0m\n\u001b[0;32m   3886\u001b[0m             \u001b[1;32mif\u001b[0m \u001b[0mlabels\u001b[0m \u001b[1;32mis\u001b[0m \u001b[1;32mnot\u001b[0m \u001b[1;32mNone\u001b[0m\u001b[1;33m:\u001b[0m\u001b[1;33m\u001b[0m\u001b[1;33m\u001b[0m\u001b[0m\n\u001b[1;32m-> 3887\u001b[1;33m                 \u001b[0mobj\u001b[0m \u001b[1;33m=\u001b[0m \u001b[0mobj\u001b[0m\u001b[1;33m.\u001b[0m\u001b[0m_drop_axis\u001b[0m\u001b[1;33m(\u001b[0m\u001b[0mlabels\u001b[0m\u001b[1;33m,\u001b[0m \u001b[0maxis\u001b[0m\u001b[1;33m,\u001b[0m \u001b[0mlevel\u001b[0m\u001b[1;33m=\u001b[0m\u001b[0mlevel\u001b[0m\u001b[1;33m,\u001b[0m \u001b[0merrors\u001b[0m\u001b[1;33m=\u001b[0m\u001b[0merrors\u001b[0m\u001b[1;33m)\u001b[0m\u001b[1;33m\u001b[0m\u001b[1;33m\u001b[0m\u001b[0m\n\u001b[0m\u001b[0;32m   3888\u001b[0m \u001b[1;33m\u001b[0m\u001b[0m\n\u001b[0;32m   3889\u001b[0m         \u001b[1;32mif\u001b[0m \u001b[0minplace\u001b[0m\u001b[1;33m:\u001b[0m\u001b[1;33m\u001b[0m\u001b[1;33m\u001b[0m\u001b[0m\n",
      "\u001b[1;32md:\\program files\\python36\\lib\\site-packages\\pandas\\core\\generic.py\u001b[0m in \u001b[0;36m_drop_axis\u001b[1;34m(self, labels, axis, level, errors)\u001b[0m\n\u001b[0;32m   3919\u001b[0m                 \u001b[0mnew_axis\u001b[0m \u001b[1;33m=\u001b[0m \u001b[0maxis\u001b[0m\u001b[1;33m.\u001b[0m\u001b[0mdrop\u001b[0m\u001b[1;33m(\u001b[0m\u001b[0mlabels\u001b[0m\u001b[1;33m,\u001b[0m \u001b[0mlevel\u001b[0m\u001b[1;33m=\u001b[0m\u001b[0mlevel\u001b[0m\u001b[1;33m,\u001b[0m \u001b[0merrors\u001b[0m\u001b[1;33m=\u001b[0m\u001b[0merrors\u001b[0m\u001b[1;33m)\u001b[0m\u001b[1;33m\u001b[0m\u001b[1;33m\u001b[0m\u001b[0m\n\u001b[0;32m   3920\u001b[0m             \u001b[1;32melse\u001b[0m\u001b[1;33m:\u001b[0m\u001b[1;33m\u001b[0m\u001b[1;33m\u001b[0m\u001b[0m\n\u001b[1;32m-> 3921\u001b[1;33m                 \u001b[0mnew_axis\u001b[0m \u001b[1;33m=\u001b[0m \u001b[0maxis\u001b[0m\u001b[1;33m.\u001b[0m\u001b[0mdrop\u001b[0m\u001b[1;33m(\u001b[0m\u001b[0mlabels\u001b[0m\u001b[1;33m,\u001b[0m \u001b[0merrors\u001b[0m\u001b[1;33m=\u001b[0m\u001b[0merrors\u001b[0m\u001b[1;33m)\u001b[0m\u001b[1;33m\u001b[0m\u001b[1;33m\u001b[0m\u001b[0m\n\u001b[0m\u001b[0;32m   3922\u001b[0m             \u001b[0mresult\u001b[0m \u001b[1;33m=\u001b[0m \u001b[0mself\u001b[0m\u001b[1;33m.\u001b[0m\u001b[0mreindex\u001b[0m\u001b[1;33m(\u001b[0m\u001b[1;33m**\u001b[0m\u001b[1;33m{\u001b[0m\u001b[0maxis_name\u001b[0m\u001b[1;33m:\u001b[0m \u001b[0mnew_axis\u001b[0m\u001b[1;33m}\u001b[0m\u001b[1;33m)\u001b[0m\u001b[1;33m\u001b[0m\u001b[1;33m\u001b[0m\u001b[0m\n\u001b[0;32m   3923\u001b[0m \u001b[1;33m\u001b[0m\u001b[0m\n",
      "\u001b[1;32md:\\program files\\python36\\lib\\site-packages\\pandas\\core\\indexes\\base.py\u001b[0m in \u001b[0;36mdrop\u001b[1;34m(self, labels, errors)\u001b[0m\n\u001b[0;32m   5280\u001b[0m         \u001b[1;32mif\u001b[0m \u001b[0mmask\u001b[0m\u001b[1;33m.\u001b[0m\u001b[0many\u001b[0m\u001b[1;33m(\u001b[0m\u001b[1;33m)\u001b[0m\u001b[1;33m:\u001b[0m\u001b[1;33m\u001b[0m\u001b[1;33m\u001b[0m\u001b[0m\n\u001b[0;32m   5281\u001b[0m             \u001b[1;32mif\u001b[0m \u001b[0merrors\u001b[0m \u001b[1;33m!=\u001b[0m \u001b[1;34m\"ignore\"\u001b[0m\u001b[1;33m:\u001b[0m\u001b[1;33m\u001b[0m\u001b[1;33m\u001b[0m\u001b[0m\n\u001b[1;32m-> 5282\u001b[1;33m                 \u001b[1;32mraise\u001b[0m \u001b[0mKeyError\u001b[0m\u001b[1;33m(\u001b[0m\u001b[1;34mf\"{labels[mask]} not found in axis\"\u001b[0m\u001b[1;33m)\u001b[0m\u001b[1;33m\u001b[0m\u001b[1;33m\u001b[0m\u001b[0m\n\u001b[0m\u001b[0;32m   5283\u001b[0m             \u001b[0mindexer\u001b[0m \u001b[1;33m=\u001b[0m \u001b[0mindexer\u001b[0m\u001b[1;33m[\u001b[0m\u001b[1;33m~\u001b[0m\u001b[0mmask\u001b[0m\u001b[1;33m]\u001b[0m\u001b[1;33m\u001b[0m\u001b[1;33m\u001b[0m\u001b[0m\n\u001b[0;32m   5284\u001b[0m         \u001b[1;32mreturn\u001b[0m \u001b[0mself\u001b[0m\u001b[1;33m.\u001b[0m\u001b[0mdelete\u001b[0m\u001b[1;33m(\u001b[0m\u001b[0mindexer\u001b[0m\u001b[1;33m)\u001b[0m\u001b[1;33m\u001b[0m\u001b[1;33m\u001b[0m\u001b[0m\n",
      "\u001b[1;31mKeyError\u001b[0m: \"['glucose_min' 'glucose_max' 'wbc_min' 'wbc_max' 'platelet_max'\\n 'platelet_min' 'potassium_min' 'potassium_max' 'sodium_min' 'sodium_max'\\n 'creatinine_min' 'creatinine_max' 'bun_min' 'bun_max'\\n 'hospital_expire_flag' 'has_chartevents_data' 'expire_flag'\\n 'admission_type' 'admission_location' 'discharge_location' 'insurance'\\n 'language' 'religion' 'marital_status' 'diagnosis' 'dbsource'\\n 'last_careunit' 'vasopressin_duration' 'aniongap_min' 'aniongap_max'\\n 'bands_min' 'bands_max' 'bicarbonate_min' 'bicarbonate_max'\\n 'bilirubin_min' 'bilirubin_max' 'chloride_min' 'chloride_max'\\n 'hematocrit_min' 'hematocrit_max' 'ptt_min' 'ptt_max' 'inr_min' 'inr_max'\\n 'pt_min' 'pt_max' 'spo2_mean' 'aado2_mean' 'baseexcess_mean'\\n 'bicarbonate_mean' 'totalco2_mean' 'carboxyhemoglobin_mean'\\n 'chloride_mean' 'calcium_mean' 'peep_mean' 'methemoglobin_mean'\\n 'o2flow_mean' 'fio2_mean' 'so2_mean' 'hematocrit_mean' 'intubated_mean'\\n 'requiredo2_mean' 'tidalvolume_mean' 'sodium_mean'\\n 'C-reactive protein.csv' 'lymphocyte_count.csv' 'glucose_mean'\\n 'lactate_min' 'lactate_max' 'temperature_mean'] not found in axis\""
     ]
    }
   ],
   "source": [
    "final_tableV8=pd.read_csv('result/final_tableV5.csv')\n",
    "final_tableV8.drop(drop_list, axis=1, inplace=True)\n",
    "#remove children samples\n",
    "#final_tableV8.drop(final_tableV8[final_tableV8['age']<18].index, inplace=True)#drop samples whose age is lesser than 18"
   ]
  },
  {
   "cell_type": "code",
   "execution_count": null,
   "metadata": {},
   "outputs": [],
   "source": [
    "final_tableV8['hemoglobin_mean']=(final_tableV8['hemoglobin_min']+final_tableV8['hemoglobin_min'])/2\n",
    "final_tableV8['albumin']=(final_tableV8['albumin_max']+final_tableV8['albumin_min'])/2\n",
    "final_tableV8['MAP']=((1/3)*final_tableV8['sysbp_mean'] + (2/3)*final_tableV8['diasbp_mean'])\n",
    "final_tableV8.drop(['hemoglobin_min','hemoglobin_max','albumin_max','albumin_min',\n",
    "                   'sysbp_mean','diasbp_mean'], axis=1, inplace=True)\n",
    "#missing_values=list(final_tableV8.columns[20:22])+list(final_tableV8.columns[37:45])+list(final_tableV8.columns[51:])"
   ]
  },
  {
   "cell_type": "code",
   "execution_count": null,
   "metadata": {},
   "outputs": [],
   "source": []
  },
  {
   "cell_type": "code",
   "execution_count": null,
   "metadata": {},
   "outputs": [],
   "source": [
    "#use winsorize to deal with outlier\n",
    "def winsorize(data, percentage_one=0.01, percentage_two=0.99, show=False):\n",
    "    if show==True:\n",
    "        plt.figure(figsize=(5,5), dpi=300)\n",
    "        ax1=plt.subplot(121)\n",
    "        plt.hist(data, bins=100)\n",
    "    count1=len(data)\n",
    "    lower_bound=data.quantile(percentage_one)\n",
    "    upper_bound=data.quantile(percentage_two)\n",
    "    count2=len(data[data<lower_bound])+len(data[data>upper_bound])\n",
    "    data[data<lower_bound]=lower_bound\n",
    "    data[data>upper_bound]=upper_bound\n",
    "    \n",
    "    if show==True:\n",
    "        print('', data.name, ':\\n', 'lower bound is', lower_bound,'\\n',\n",
    "          'upeer bound is', upper_bound,'\\n', \n",
    "          'totally dealt with',count2, 'of', count1, '(', (count2/count1)*100, '%)', '\\n')\n",
    "        ax2=plt.subplot(122)\n",
    "        plt.hist(data, bins=100)\n",
    "    \n",
    "    \n",
    "def regression(name1,name2):\n",
    "    name_x=name1\n",
    "    name_y=name2\n",
    "    regData=final_tableV8[final_tableV8[name_x].notnull() & final_tableV8[name_y].notnull()]\n",
    "    x=regData[name_x].values.reshape(-1,1)\n",
    "    y=regData[name_y].values.reshape(-1,1)\n",
    "    reg=LinearRegression()\n",
    "    reg.fit(x,y)\n",
    "    x2=np.linspace(x.min(), x.max(), num=10)\n",
    "    y2 = reg.predict(x2.reshape(-1,1))\n",
    "    fig = plt.figure()\n",
    "    ax1 = fig.add_subplot(1,1,1)\n",
    "    ax1.scatter(x,y, s=2)\n",
    "    ax1.plot(x2, y2, c='black')\n",
    "    plt.show()\n",
    "    print('R^2 is', reg.score(x,y))"
   ]
  },
  {
   "cell_type": "code",
   "execution_count": null,
   "metadata": {},
   "outputs": [],
   "source": [
    "winsorize(final_tableV8['age'], 0.00, 0.948)\n",
    "winsorize(final_tableV8['height_first'], 0.01, 0.99)\n",
    "winsorize(final_tableV8['weight_first'], 0.01, 0.99)"
   ]
  },
  {
   "cell_type": "code",
   "execution_count": null,
   "metadata": {},
   "outputs": [],
   "source": [
    "def meanFill(dataframe, variables_list, show=False):\n",
    "    for i in variables_list:\n",
    "        dataframe[i].fillna(dataframe[i].mean(),inplace=True)\n",
    "\n",
    "\n",
    "def fill(dataframe, variables_list, variables_y, parameters, model, show=False):\n",
    "    for i in variables_y:\n",
    "        if show==True:\n",
    "            plt.figure(figsize=(10,10), dpi=300)\n",
    "            ax1=plt.subplot(121)\n",
    "            plt.hist(dataframe[i], bins=100)\n",
    "        clf=GridSearchCV(model, parameters, cv=5)\n",
    "        X=dataframe[dataframe[i].notnull()][variables_list]\n",
    "        y=dataframe[dataframe[i].notnull()][i]\n",
    "        clf.fit(X, y)\n",
    "        scores=clf.score(X, y)\n",
    "        #scores = cross_val_score(estimator=model, X=dataframe[variables_list], y=dataframe['hospital_mortality'], cv=5,scoring = \"neg_mean_absolute_error\")\n",
    "        #train_score=model.score(dataframe[variables_list], dataframe['hospital_mortality'])\n",
    "\n",
    "        print('the best model is:', clf.best_estimator_, 'with best score', clf.best_score_)\n",
    "        print('mean test scores are', clf.cv_results_['mean_test_score'])\n",
    "        fillX=dataframe[dataframe[i].isnull()][variables_list]\n",
    "        dataframe.loc[dataframe[dataframe[i].isnull()].index, i]=clf.predict(fillX)\n",
    "        if show==True:\n",
    "            ax2=plt.subplot(122)\n",
    "            plt.hist(dataframe[i], bins=100)\n",
    "            plt.show()"
   ]
  },
  {
   "cell_type": "code",
   "execution_count": null,
   "metadata": {},
   "outputs": [],
   "source": [
    "final_tableV8.describe()"
   ]
  },
  {
   "cell_type": "code",
   "execution_count": null,
   "metadata": {},
   "outputs": [],
   "source": []
  },
  {
   "cell_type": "code",
   "execution_count": null,
   "metadata": {},
   "outputs": [],
   "source": [
    "final_tableV8['los'].fillna(final_tableV8['los'].mean(), inplace=True)\n",
    "#final_tableV8['height_first'].fillna(final_tableV8['height_first'].mean(), inplace=True)\n",
    "final_tableV8['weight_first'].fillna(final_tableV8['weight_first'].mean(), inplace=True)\n",
    "#variables_list=final_tableV8.columns[29:]\n",
    "#meanFill(final_tableV8, missing_values)\n",
    "final_tableV8['gender']=final_tableV8['gender'].map(lambda x:1 if x=='M' else 0)\n",
    "divide=final_tableV8['height_first']/100\n",
    "final_tableV8['BMI']=final_tableV8['weight_first']/(divide*divide)\n",
    "final_tableV8.drop(['weight_first','height_first'], axis=1, inplace=True)"
   ]
  },
  {
   "cell_type": "code",
   "execution_count": null,
   "metadata": {},
   "outputs": [],
   "source": [
    "data=final_tableV8[final_tableV8['sepsis.csv']==1]\n",
    "data=data[data['uric_acid.csv'].notnull()]"
   ]
  },
  {
   "cell_type": "code",
   "execution_count": null,
   "metadata": {},
   "outputs": [],
   "source": [
    "data.describe()"
   ]
  },
  {
   "cell_type": "code",
   "execution_count": null,
   "metadata": {},
   "outputs": [],
   "source": [
    "data.columns"
   ]
  },
  {
   "cell_type": "code",
   "execution_count": null,
   "metadata": {},
   "outputs": [],
   "source": [
    "missing_values=['los','hospital_mortality', '30_mortality',\n",
    "       '90_mortality', '365_mortality', 'age', 'sofa', 'vasopressin', 'sapsii',\n",
    "       'heartrate_mean', 'resprate_mean', 'tempc_mean', 'hemoglobin_mean',\n",
    "       'lactate_mean', 'pco2_mean', 'ph_mean', 'po2_mean', 'potassium_mean',\n",
    "       'CKD.csv', 'COPD.csv', 'coronary heart disease.csv', 'diabetes.csv',\n",
    "       'hypertension.csv', 'liver disease.csv', 'sepsis.csv', 'creatinine.csv',\n",
    "       'glucose.csv', 'neutrophils.csv', 'platelet.csv', 'potassium.csv',\n",
    "       'sodium.csv', 'urea nitrogen.csv', 'uric_acid.csv', 'WBC.csv',\n",
    "       'albumin', 'MAP', 'BMI']\n",
    "meanFill(data, missing_values)"
   ]
  },
  {
   "cell_type": "code",
   "execution_count": null,
   "metadata": {},
   "outputs": [],
   "source": [
    "data.to_csv('result/final_tableV10.csv', index=False)"
   ]
  },
  {
   "cell_type": "code",
   "execution_count": null,
   "metadata": {},
   "outputs": [],
   "source": []
  }
 ],
 "metadata": {
  "kernelspec": {
   "display_name": "Python 3",
   "language": "python",
   "name": "python3"
  },
  "language_info": {
   "codemirror_mode": {
    "name": "ipython",
    "version": 3
   },
   "file_extension": ".py",
   "mimetype": "text/x-python",
   "name": "python",
   "nbconvert_exporter": "python",
   "pygments_lexer": "ipython3",
   "version": "3.6.8"
  }
 },
 "nbformat": 4,
 "nbformat_minor": 4
}
