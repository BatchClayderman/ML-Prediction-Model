{
 "cells": [
  {
   "cell_type": "code",
   "execution_count": 1,
   "metadata": {},
   "outputs": [],
   "source": [
    "import psycopg2\n",
    "import pandas as pd\n",
    "import numpy as np\n",
    "pd.set_option('display.max_columns', None) #show all columns\n",
    "pd.set_option('max_colwidth',None)"
   ]
  },
  {
   "cell_type": "code",
   "execution_count": 2,
   "metadata": {},
   "outputs": [],
   "source": [
    "def search_table(s='*', f='admissions', w='', like='', download_as=''):\n",
    "    temp=s.lower()\n",
    "    for i in temp:\n",
    "        if i>\"z\" or i<\"a\":\n",
    "            assert \"TypeError\"\n",
    "    del temp\n",
    "    conn = psycopg2.connect(database=\"mimic\", user=\"postgres\",\n",
    "                            password=\"pandora\", host=\"127.0.0.1\", port=\"5432\")\n",
    "    cursor = conn.cursor()\n",
    "    if (w!='')&(like!=''):\n",
    "        cursor.execute(\"select \" + s + \" from mimiciii.\" + f +' where '+ w +\n",
    "                       ' like ' + \"'%\"+ like +\"%'\")\n",
    "    elif (w!='')&(like=='') :\n",
    "        cursor.execute(\"select \" + s + \" from mimiciii.\" + f +' where '+ w)\n",
    "    else:\n",
    "        cursor.execute(\"select \" + s + \" from mimiciii.\" + f)\n",
    "    table = cursor.fetchall()\n",
    "    if(len(table)!=0):\n",
    "        colnames = [desc[0] for desc in cursor.description]\n",
    "        columns = cursor.fetchall()\n",
    "        cursor.close()\n",
    "        conn.close()\n",
    "        columns=pd.DataFrame(columns)\n",
    "        table=pd.DataFrame(table)\n",
    "        table.columns=colnames\n",
    "    if(download_as!=''):\n",
    "        table.to_csv('download data/'+download_as+'.csv', index=False)\n",
    "    return table"
   ]
  },
  {
   "cell_type": "code",
   "execution_count": null,
   "metadata": {},
   "outputs": [],
   "source": [
    "res=search_table(s='*', f='SAPSII')\n",
    "res"
   ]
  },
  {
   "cell_type": "code",
   "execution_count": null,
   "metadata": {},
   "outputs": [],
   "source": []
  },
  {
   "cell_type": "code",
   "execution_count": null,
   "metadata": {},
   "outputs": [],
   "source": []
  },
  {
   "cell_type": "code",
   "execution_count": null,
   "metadata": {},
   "outputs": [],
   "source": []
  },
  {
   "cell_type": "code",
   "execution_count": null,
   "metadata": {},
   "outputs": [],
   "source": []
  },
  {
   "cell_type": "code",
   "execution_count": null,
   "metadata": {},
   "outputs": [],
   "source": []
  },
  {
   "cell_type": "code",
   "execution_count": null,
   "metadata": {},
   "outputs": [],
   "source": []
  },
  {
   "cell_type": "code",
   "execution_count": null,
   "metadata": {},
   "outputs": [],
   "source": []
  },
  {
   "cell_type": "code",
   "execution_count": null,
   "metadata": {},
   "outputs": [],
   "source": []
  },
  {
   "cell_type": "code",
   "execution_count": null,
   "metadata": {},
   "outputs": [],
   "source": []
  },
  {
   "cell_type": "code",
   "execution_count": null,
   "metadata": {},
   "outputs": [],
   "source": []
  },
  {
   "cell_type": "code",
   "execution_count": null,
   "metadata": {},
   "outputs": [],
   "source": []
  },
  {
   "cell_type": "code",
   "execution_count": null,
   "metadata": {},
   "outputs": [],
   "source": []
  },
  {
   "cell_type": "code",
   "execution_count": null,
   "metadata": {},
   "outputs": [],
   "source": []
  },
  {
   "cell_type": "code",
   "execution_count": null,
   "metadata": {},
   "outputs": [],
   "source": []
  },
  {
   "cell_type": "code",
   "execution_count": null,
   "metadata": {},
   "outputs": [],
   "source": []
  },
  {
   "cell_type": "code",
   "execution_count": null,
   "metadata": {},
   "outputs": [],
   "source": []
  },
  {
   "cell_type": "code",
   "execution_count": null,
   "metadata": {},
   "outputs": [],
   "source": []
  },
  {
   "cell_type": "code",
   "execution_count": null,
   "metadata": {},
   "outputs": [],
   "source": []
  },
  {
   "cell_type": "code",
   "execution_count": null,
   "metadata": {},
   "outputs": [],
   "source": []
  },
  {
   "cell_type": "code",
   "execution_count": null,
   "metadata": {},
   "outputs": [],
   "source": []
  },
  {
   "cell_type": "code",
   "execution_count": null,
   "metadata": {},
   "outputs": [],
   "source": []
  },
  {
   "cell_type": "code",
   "execution_count": null,
   "metadata": {},
   "outputs": [],
   "source": [
    "def searchDiseaseID(disease_name=''):\n",
    "    result=search_table(s='*' ,f='d_icd_diagnoses', w='long_title', like=disease_name , download_as='')\n",
    "    index_list=[]\n",
    "    if (len(search_table(s='*' ,f='d_icd_diagnoses', w='long_title', like=disease_name , download_as=''))!=0):\n",
    "        index_list=np.array(result['icd9_code'])\n",
    "\n",
    "    return index_list, result\n",
    "    \n",
    "index, result=searchDiseaseID('myocardial')\n"
   ]
  },
  {
   "cell_type": "code",
   "execution_count": null,
   "metadata": {},
   "outputs": [],
   "source": [
    "def searchDisease(index=[], download_as=''):\n",
    "    res=pd.DataFrame()\n",
    "    index=list(index)\n",
    "    count=0\n",
    "    for i in index:\n",
    "        count+=1\n",
    "        if(len(search_table(s='*' ,f='diagnoses_icd', w=\"icd9_code=\"+\"'\"+str(i)+\"'\", like='' , download_as=''))==0):\n",
    "            index.remove(str(i))\n",
    "        \n",
    "        temp=search_table(s='*' ,f='diagnoses_icd', w=\"icd9_code=\"+\"'\"+str(i)+\"'\", like='' , download_as='')\n",
    "        res=res.append(temp, ignore_index=True)\n",
    "    print('search', count, 'of',len(index))\n",
    "    if download_as!='':\n",
    "        res.to_csv('download data/'+download_as+'.csv', index=False)\n",
    "    return res\n",
    "        \n"
   ]
  },
  {
   "cell_type": "code",
   "execution_count": null,
   "metadata": {},
   "outputs": [],
   "source": []
  },
  {
   "cell_type": "code",
   "execution_count": null,
   "metadata": {},
   "outputs": [],
   "source": []
  },
  {
   "cell_type": "code",
   "execution_count": null,
   "metadata": {},
   "outputs": [],
   "source": []
  }
 ],
 "metadata": {
  "kernelspec": {
   "display_name": "Python 3",
   "language": "python",
   "name": "python3"
  },
  "language_info": {
   "codemirror_mode": {
    "name": "ipython",
    "version": 3
   },
   "file_extension": ".py",
   "mimetype": "text/x-python",
   "name": "python",
   "nbconvert_exporter": "python",
   "pygments_lexer": "ipython3",
   "version": "3.7.8"
  }
 },
 "nbformat": 4,
 "nbformat_minor": 4
}
