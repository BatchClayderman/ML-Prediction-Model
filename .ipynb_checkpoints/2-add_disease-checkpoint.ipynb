{
 "cells": [
  {
   "cell_type": "code",
   "execution_count": 1,
   "metadata": {},
   "outputs": [],
   "source": [
    "import pandas as pd\n",
    "import os"
   ]
  },
  {
   "cell_type": "code",
   "execution_count": 2,
   "metadata": {},
   "outputs": [],
   "source": [
    "#load all disease files in './MIMIC/disease'\n",
    "file_list=[]\n",
    "for root, dirs, files in os.walk('MIMIC data/disease'):  \n",
    "    file_list.append(files)"
   ]
  },
  {
   "cell_type": "code",
   "execution_count": 3,
   "metadata": {},
   "outputs": [],
   "source": [
    "#load basic information file\n",
    "final_tableV6=pd.read_csv('result/final_tableV5.csv')"
   ]
  },
  {
   "cell_type": "code",
   "execution_count": 4,
   "metadata": {},
   "outputs": [],
   "source": [
    "#load and auto merge all disease files to final_tableV6\n",
    "for i in range(len(file_list[0])):\n",
    "    disease=pd.read_csv('MIMIC data/disease/'+file_list[0][i])\n",
    "    disease.drop_duplicates('hadm_id',keep='first', inplace=True)\n",
    "    disease[file_list[0][i]]=1\n",
    "    disease=disease[['hadm_id', file_list[0][i]]]\n",
    "    final_tableV6=pd.merge(final_tableV6, disease, on='hadm_id', how='left')\n",
    "    final_tableV6[file_list[0][i]]=final_tableV6[file_list[0][i]].fillna(0)"
   ]
  },
  {
   "cell_type": "code",
   "execution_count": 5,
   "metadata": {},
   "outputs": [],
   "source": [
    "#remove the following '#' to output final_tableV6 to specified location\n",
    "final_tableV6.to_csv('result/final_tableV5.csv', index=False)"
   ]
  },
  {
   "cell_type": "code",
   "execution_count": null,
   "metadata": {},
   "outputs": [],
   "source": []
  }
 ],
 "metadata": {
  "kernelspec": {
   "display_name": "Python 3",
   "language": "python",
   "name": "python3"
  },
  "language_info": {
   "codemirror_mode": {
    "name": "ipython",
    "version": 3
   },
   "file_extension": ".py",
   "mimetype": "text/x-python",
   "name": "python",
   "nbconvert_exporter": "python",
   "pygments_lexer": "ipython3",
   "version": "3.7.8"
  }
 },
 "nbformat": 4,
 "nbformat_minor": 4
}
