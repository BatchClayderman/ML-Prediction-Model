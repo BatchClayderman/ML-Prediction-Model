{
 "cells": [
  {
   "cell_type": "code",
   "execution_count": 1,
   "metadata": {},
   "outputs": [],
   "source": [
    "import pandas as pd\n",
    "import datetime\n",
    "import os"
   ]
  },
  {
   "cell_type": "code",
   "execution_count": 2,
   "metadata": {},
   "outputs": [],
   "source": [
    "#load basic information file\n",
    "final_tableV7=pd.read_csv('result/final_tableV5.csv')\n",
    "temp=final_tableV7[['subject_id', 'intime_h', 'dischtime_h']]"
   ]
  },
  {
   "cell_type": "code",
   "execution_count": 3,
   "metadata": {},
   "outputs": [],
   "source": [
    "#some funtions to convert time into hours\n",
    "def calculate_time(x):\n",
    "    if x=='nan': \n",
    "        return 'NaN'\n",
    "    else:\n",
    "        curTime = datetime.datetime.strptime(x,'%Y-%m-%d %H:%M:%S') \n",
    "        utcTime2 = datetime.datetime.strptime(\"1970-01-01 00:00:00\", '%Y-%m-%d %H:%M:%S')\n",
    "        metTime =  curTime - utcTime2 \n",
    "        timeStamp = metTime.days*24*3600 + metTime.seconds \n",
    "        return (timeStamp / 3600 + 87600 +72)\n",
    "    \n",
    "def transform_time(dataframe, column_name):\n",
    "    dataframe[column_name+'_h']=dataframe[column_name].apply(lambda x: calculate_time(str(x)))"
   ]
  },
  {
   "cell_type": "code",
   "execution_count": 4,
   "metadata": {},
   "outputs": [],
   "source": [
    "#load all biochemical indexes files in './MIMIC/biochemical indexes'\n",
    "file_list=[]\n",
    "for root, dirs, files in os.walk('MIMIC data/biochemical indexes'):  \n",
    "    file_list.append(files)"
   ]
  },
  {
   "cell_type": "code",
   "execution_count": null,
   "metadata": {},
   "outputs": [
    {
     "name": "stderr",
     "output_type": "stream",
     "text": [
      "c:\\programs\\python project\\venv\\lib\\site-packages\\pandas\\core\\frame.py:4133: SettingWithCopyWarning: \n",
      "A value is trying to be set on a copy of a slice from a DataFrame\n",
      "\n",
      "See the caveats in the documentation: https://pandas.pydata.org/pandas-docs/stable/user_guide/indexing.html#returning-a-view-versus-a-copy\n",
      "  errors=errors,\n",
      "c:\\programs\\python project\\venv\\lib\\site-packages\\IPython\\core\\interactiveshell.py:3072: DtypeWarning: Columns (5) have mixed types.Specify dtype option on import or set low_memory=False.\n",
      "  interactivity=interactivity, compiler=compiler, result=result)\n"
     ]
    }
   ],
   "source": [
    "#load and auto merge mean, max, min values of all biochemical indexes files to final_tableV7\n",
    "for i in range(len(file_list[0])):\n",
    "    biochemistry=pd.read_csv('MIMIC data/biochemical indexes/'+file_list[0][i])\n",
    "    transform_time(biochemistry, 'charttime')\n",
    "    temp2=pd.merge(temp, biochemistry, on='subject_id', how='left')\n",
    "    temp2.sort_values(by=['subject_id', 'charttime_h'], inplace=True)\n",
    "    temp3=temp2[temp2['intime_h']<temp2['charttime_h']]\n",
    "    temp4=temp3[temp3['charttime_h']<temp3['dischtime_h']]\n",
    "    #temp5=pd.DataFrame({'subject_id':temp4.groupby('subject_id')['valuenum'].max().index, \n",
    "    #                    file_list[0][i]+'_init':temp4.groupby('subject_id')['valuenum'].mean().values})\n",
    "    temp5=temp4.drop_duplicates(subset='subject_id',keep='first')\n",
    "    temp6=temp5[['subject_id','valuenum']]\n",
    "    temp6.rename(columns={'valuenum':file_list[0][i]},inplace=True)\n",
    "    final_tableV7=pd.merge(final_tableV7, temp6, on='subject_id', how='left')"
   ]
  },
  {
   "cell_type": "code",
   "execution_count": null,
   "metadata": {},
   "outputs": [],
   "source": [
    "#remove the following '#' to output final_tableV7 to specified location\n",
    "final_tableV7.to_csv('result/final_tableV5.csv', index=False)"
   ]
  },
  {
   "cell_type": "code",
   "execution_count": null,
   "metadata": {},
   "outputs": [],
   "source": []
  }
 ],
 "metadata": {
  "kernelspec": {
   "display_name": "Python 3",
   "language": "python",
   "name": "python3"
  },
  "language_info": {
   "codemirror_mode": {
    "name": "ipython",
    "version": 3
   },
   "file_extension": ".py",
   "mimetype": "text/x-python",
   "name": "python",
   "nbconvert_exporter": "python",
   "pygments_lexer": "ipython3",
   "version": "3.7.8"
  }
 },
 "nbformat": 4,
 "nbformat_minor": 4
}
