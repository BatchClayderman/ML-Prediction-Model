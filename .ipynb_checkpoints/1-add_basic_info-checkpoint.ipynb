{
 "cells": [
  {
   "cell_type": "code",
   "execution_count": 1,
   "metadata": {},
   "outputs": [],
   "source": [
    "import pandas as pd\n",
    "import numpy as np\n",
    "import datetime\n",
    "pd.set_option('display.max_columns', None) #show all columns\n",
    "pd.set_option('max_colwidth',None)"
   ]
  },
  {
   "cell_type": "code",
   "execution_count": 2,
   "metadata": {},
   "outputs": [],
   "source": [
    "#load and preprocess data\n",
    "final_tableV0=pd.read_csv('C:/Programs/Python Project/MIMIC data/basic information/admission.csv') #58976*18\n",
    "final_tableV0.drop('row_id',axis=1, inplace=True) #remove row_id/58976*17\n",
    "patient=pd.read_csv('C:/Programs/Python Project/MIMIC data/basic information/patient.csv') #46520*7\n",
    "patient.drop('row_id',axis=1, inplace=True) #remove row_id/46520*6\n",
    "icustay=pd.read_csv('C:/Programs/Python Project/MIMIC data/basic information/icustay.csv') #61532*12\n",
    "icustay.drop(['row_id', 'first_wardid', 'last_wardid'], axis=1, inplace=True)#remove some columns/61532*9\n",
    "heightweight=pd.read_csv('C:/Programs/Python Project/MIMIC data/basic information/heightweight.csv') #52971*8\n",
    "heightweight.drop(['height_max','height_min', 'weight_min', 'weight_max', 'subject_id'], axis=1, inplace=True) #romove some columns/52971*3\n",
    "SOFA=pd.read_csv('C:/Programs/Python Project/MIMIC data/basic information/SOFA.csv')#61532*10\n",
    "vasopressin=pd.read_csv('MIMIC data/basic information/vasopressin.csv')\n",
    "SIRS=pd.read_csv('MIMIC data/basic information/SIRS.csv')\n",
    "apsiii=pd.read_csv('MIMIC data/basic information/APS III.csv')\n",
    "sapsii=pd.read_csv('MIMIC data/basic information/SAPS II.csv')\n",
    "rrtfirstday=pd.read_csv('MIMIC data/basic information/rrtfirstday.csv')\n",
    "uofirstday=pd.read_csv('MIMIC data/basic information/uofirstday.csv')\n",
    "LODS=pd.read_csv('MIMIC data/basic information/LODS score.csv')\n",
    "norepinephrine=pd.read_csv('MIMIC data/basic information/norepinephrine.csv')\n",
    "labsfirstday=pd.read_csv('MIMIC data/basic information/labsfirstday.csv')\n",
    "vitalsfirstday=pd.read_csv('MIMIC data/basic information/vitalsfirstday.csv')\n",
    "bloodgasfirstday=pd.read_csv('MIMIC data/basic information/bloodgasfirstday.csv')\n",
    "GCSfirstday=pd.read_csv('MIMIC data/basic information/GCSfirstday.csv')\n",
    "angus_sepsis=pd.read_csv('MIMIC data/basic information/angus_sepsis.csv')"
   ]
  },
  {
   "cell_type": "code",
   "execution_count": 3,
   "metadata": {},
   "outputs": [],
   "source": [
    "#merge and sort table\n",
    "final_tableV1 = pd.merge(final_tableV0, patient, on='subject_id', how='left') #merge patient to final_table\n",
    "final_tableV1.sort_values(by='subject_id', ascending=True)#sort by subject_id/58976*24\n",
    "final_tableV2=pd.merge(final_tableV1, pd.merge(icustay, heightweight, on='icustay_id', how='left').drop('subject_id', axis=1), \n",
    "              on='hadm_id', how='outer')#merge icustay and heightweight to final_tableV1/62722*33\n",
    "final_tableV3=final_tableV2[final_tableV2['icustay_id'].isnull()==0]#remove data where icustay_id are NaN/61532*33\n",
    "cols=list(final_tableV3)\n",
    "cols.insert(2, cols.pop(cols.index('icustay_id')))\n",
    "final_tableV3=final_tableV3.reindex(columns= cols)\n",
    "final_tableV3.sort_values(by=['subject_id','intime'], inplace=True)\n",
    "final_tableV4=final_tableV3.drop_duplicates(subset='subject_id',keep='first') #drop 15056 duplicate samples by subject_id\n",
    "final_tableV5=final_tableV4.copy()"
   ]
  },
  {
   "cell_type": "code",
   "execution_count": 4,
   "metadata": {},
   "outputs": [],
   "source": [
    "#some funtions to convert time into hours\n",
    "def calculate_time(x):\n",
    "    if x=='nan': \n",
    "        return 'NaN'\n",
    "    else:\n",
    "        curTime = datetime.datetime.strptime(x,'%Y-%m-%d %H:%M:%S') \n",
    "        utcTime2 = datetime.datetime.strptime(\"1970-01-01 00:00:00\", '%Y-%m-%d %H:%M:%S')\n",
    "        metTime =  curTime - utcTime2 \n",
    "        timeStamp = metTime.days*24*3600 + metTime.seconds \n",
    "        return (timeStamp / 3600 + 87600 +72)\n",
    "    \n",
    "def transform_time(dataframe, column_name):\n",
    "    dataframe[column_name+'_h']=dataframe[column_name].apply(lambda x: calculate_time(str(x)))"
   ]
  },
  {
   "cell_type": "code",
   "execution_count": 5,
   "metadata": {},
   "outputs": [],
   "source": [
    "#convert the following time into hours\n",
    "transform_time(final_tableV5,'dob')\n",
    "transform_time(final_tableV5,'dod')\n",
    "transform_time(final_tableV5,'admittime')\n",
    "transform_time(final_tableV5,'dischtime')\n",
    "transform_time(final_tableV5,'intime')\n",
    "transform_time(final_tableV5,'outtime')\n",
    "#calculate and add the column of hospital mortality\n",
    "temp=final_tableV5.copy()\n",
    "temp.loc[temp['dod_h']=='NaN', 'dod_h']=10000000\n",
    "final_tableV5.loc[temp['dod_h']<=temp['dischtime_h'], 'hospital_mortality']=1\n",
    "final_tableV5.loc[temp['dod_h']<=temp['dischtime_h']+720, '30_mortality']=1\n",
    "final_tableV5.loc[temp['dod_h']<=temp['dischtime_h']+2160, '90_mortality']=1\n",
    "final_tableV5.loc[temp['dod_h']<=temp['dischtime_h']+8760, '365_mortality']=1\n",
    "final_tableV5['hospital_mortality']=final_tableV5['hospital_mortality'].fillna(0)\n",
    "final_tableV5['30_mortality']=final_tableV5['30_mortality'].fillna(0)\n",
    "final_tableV5['90_mortality']=final_tableV5['90_mortality'].fillna(0)\n",
    "final_tableV5['365_mortality']=final_tableV5['365_mortality'].fillna(0)\n",
    "final_tableV5['age']=(final_tableV5['intime_h']-final_tableV5['dob_h'])/24/365\n",
    "SOFA.drop(['subject_id', 'hadm_id'], axis=1, inplace=True)\n",
    "final_tableV5.drop(['admittime','dischtime','deathtime','edregtime','edouttime',\n",
    "                     'dob','dod','intime','outtime','dod_hosp','dod_ssn'], axis=1, inplace=True)\n",
    "final_tableV5=pd.merge(final_tableV5, SOFA[['icustay_id','sofa']], on='icustay_id', how='left')\n",
    "vasopressin['vasopressin']=1\n",
    "final_tableV5=pd.merge(final_tableV5, vasopressin[['icustay_id','duration_hours', 'vasopressin']].drop_duplicates('icustay_id', keep='first'),\n",
    "                       on='icustay_id', how='left')\n",
    "final_tableV5.rename(columns={'duration_hours':'vasopressin_duration'}, inplace = True)\n",
    "final_tableV5[['vasopressin_duration', 'vasopressin']]=final_tableV5[['vasopressin_duration', 'vasopressin']].fillna(0)\n",
    "final_tableV5=pd.merge(final_tableV5, SIRS[['icustay_id','sirs']].drop_duplicates('icustay_id', keep='first'),\n",
    "                       on='icustay_id', how='left')\n",
    "final_tableV5=pd.merge(final_tableV5, apsiii[['icustay_id', 'apsiii']].drop_duplicates('icustay_id', keep='first'),\n",
    "                       on='icustay_id', how='left')\n",
    "final_tableV5=pd.merge(final_tableV5, sapsii[['icustay_id', 'sapsii']].drop_duplicates('icustay_id', keep='first'),\n",
    "                       on='icustay_id', how='left')\n",
    "final_tableV5=pd.merge(final_tableV5, rrtfirstday[['icustay_id', 'rrt']].drop_duplicates('icustay_id', keep='first'),\n",
    "                       on='icustay_id', how='left')\n",
    "final_tableV5=pd.merge(final_tableV5, uofirstday[['icustay_id','urineoutput']].drop_duplicates('icustay_id', keep='first'),\n",
    "                       on='icustay_id', how='left')\n",
    "final_tableV5=pd.merge(final_tableV5, LODS[['icustay_id','lods']].drop_duplicates('icustay_id', keep='first'),\n",
    "                       on='icustay_id', how='left')\n",
    "labsfirstday.drop(['subject_id', 'hadm_id'], axis=1, inplace=True)\n",
    "labsfirstday.drop_duplicates('icustay_id', keep='first', inplace=True)\n",
    "final_tableV5=pd.merge(final_tableV5, labsfirstday,\n",
    "                       on='icustay_id', how='left')\n",
    "vitalsfirstday.drop(['subject_id', 'hadm_id','glucose_max','glucose_min','glucose_mean',\n",
    "                    'spo2_max','spo2_min','tempc_max','tempc_min','resprate_max','resprate_min',\n",
    "                    'meanbp_min','meanbp_max','meanbp_mean','diasbp_max','diasbp_min',\n",
    "                    'sysbp_max','sysbp_min','heartrate_max','heartrate_min']\n",
    "                    , axis=1, inplace=True)\n",
    "vitalsfirstday.drop_duplicates('icustay_id', keep='first', inplace=True)\n",
    "final_tableV5=pd.merge(final_tableV5, vitalsfirstday,\n",
    "                       on='icustay_id', how='left')\n",
    "final_tableV5=pd.merge(final_tableV5, GCSfirstday[['icustay_id', 'mingcs']],\n",
    "                       on='icustay_id', how='left')\n",
    "angus_sepsis.drop('subject_id', axis=1, inplace=True)\n",
    "final_tableV5=pd.merge(final_tableV5, angus_sepsis,\n",
    "                       on='hadm_id', how='left')"
   ]
  },
  {
   "cell_type": "code",
   "execution_count": 6,
   "metadata": {},
   "outputs": [],
   "source": [
    "transform_time(bloodgasfirstday,'charttime')\n",
    "bloodgasfirstday\n",
    "temp=final_tableV5[['subject_id', 'intime_h', 'dischtime_h']]\n",
    "temp2=pd.merge(temp, bloodgasfirstday, on='subject_id', how='left')\n",
    "temp2.sort_values(by=['subject_id', 'charttime_h'], inplace=True)\n",
    "temp2['charttime_h']=temp2['charttime_h'].astype(float)\n",
    "#temp3=temp2[temp2['intime_h']<temp2['charttime_h']]\n",
    "#temp4=temp3[temp3['charttime_h']<temp3['dischtime_h']]\n",
    "temp4=temp2"
   ]
  },
  {
   "cell_type": "code",
   "execution_count": 7,
   "metadata": {},
   "outputs": [],
   "source": [
    "temp_list=['aado2', 'baseexcess', 'bicarbonate',\n",
    "       'totalco2', 'carboxyhemoglobin', 'chloride', 'calcium', 'glucose',\n",
    "       'hematocrit', 'hemoglobin', 'intubated', 'lactate', 'methemoglobin',\n",
    "       'o2flow', 'fio2', 'so2', 'pco2', 'peep', 'ph', 'po2', 'potassium',\n",
    "       'requiredo2', 'sodium', 'temperature', 'tidalvolume']\n",
    "for i in temp_list:\n",
    "    temp5=pd.DataFrame({'subject_id':temp4.groupby('subject_id')[i].max().index, \n",
    "                        i+'_mean':temp4.groupby('subject_id')[i].mean().values})\n",
    "    final_tableV5=pd.merge(final_tableV5, temp5, on='subject_id', how='left')"
   ]
  },
  {
   "cell_type": "code",
   "execution_count": 8,
   "metadata": {},
   "outputs": [],
   "source": [
    "#remove the following '#' to output final_tableV5 to specified location\n",
    "final_tableV5.to_csv('C:/Programs/Python Project/result/final_tableV5.csv', index=False)"
   ]
  },
  {
   "cell_type": "code",
   "execution_count": null,
   "metadata": {},
   "outputs": [],
   "source": []
  }
 ],
 "metadata": {
  "kernelspec": {
   "display_name": "Python 3",
   "language": "python",
   "name": "python3"
  },
  "language_info": {
   "codemirror_mode": {
    "name": "ipython",
    "version": 3
   },
   "file_extension": ".py",
   "mimetype": "text/x-python",
   "name": "python",
   "nbconvert_exporter": "python",
   "pygments_lexer": "ipython3",
   "version": "3.7.8"
  }
 },
 "nbformat": 4,
 "nbformat_minor": 4
}
