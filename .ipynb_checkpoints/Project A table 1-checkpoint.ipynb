{
 "cells": [
  {
   "cell_type": "code",
   "execution_count": 1,
   "metadata": {},
   "outputs": [],
   "source": [
    "import pandas as pd"
   ]
  },
  {
   "cell_type": "code",
   "execution_count": 2,
   "metadata": {},
   "outputs": [],
   "source": [
    "data=pd.read_csv('result/original_data.csv')"
   ]
  },
  {
   "cell_type": "code",
   "execution_count": 3,
   "metadata": {},
   "outputs": [],
   "source": [
    "data['gender']=data['gender'].map(lambda x:1 if x=='M' else 0)\n",
    "divide=data['height_first']/100\n",
    "data['BMI']=data['weight_first']/(divide*divide)\n",
    "data.drop(['weight_first','height_first'], axis=1, inplace=True)\n",
    "for i in ['WHITE','WHITE - RUSSIAN','WHITE - BRAZILIAN','WHITE - OTHER EUROPEAN','WHITE - EASTERN EUROPEAN']:\n",
    "    data.loc[data[data['ethnicity']==i].index, 'ethnicity']=0\n",
    "for i in ['ASIAN','ASIAN - CHINESE','ASIAN - ASIAN INDIAN','ASIAN - THAI','ASIAN - OTHER', 'ASIAN - VIETNAMESE',\n",
    "         'ASIAN - FILIPINO', 'ASIAN - JAPANESE','ASIAN - KOREAN','ASIAN - CAMBODIAN']:\n",
    "    data.loc[data[data['ethnicity']==i].index, 'ethnicity']=1 \n",
    "for i in ['BLACK/AFRICAN AMERICAN','BLACK/CAPE VERDEAN',\n",
    "       'BLACK/HAITIAN','BLACK/AFRICAN',]:\n",
    "    data.loc[data[data['ethnicity']==i].index, 'ethnicity']=2\n",
    "data['ethnicity']=data['ethnicity'].map(lambda x:3 if type(x)!=int else x)\n",
    "data.drop(['IBIL.csv'],axis=1,inplace=True)"
   ]
  },
  {
   "cell_type": "code",
   "execution_count": 4,
   "metadata": {},
   "outputs": [],
   "source": [
    "data['365_surviving_time']=(data['dod_h']-data['admittime_h'])/24\n",
    "data['365_surviving_time']=data['365_surviving_time'].fillna(366)\n",
    "data.loc[data[data['365_surviving_time']>=365].index, '365_surviving_time']=365\n",
    "\n",
    "data['30_surviving_time']=(data['dod_h']-data['admittime_h'])/24\n",
    "data['30_surviving_time']=data['30_surviving_time'].fillna(31)\n",
    "data.loc[data[data['30_surviving_time']>=30].index, '30_surviving_time']=30"
   ]
  },
  {
   "cell_type": "code",
   "execution_count": 5,
   "metadata": {},
   "outputs": [
    {
     "name": "stdout",
     "output_type": "stream",
     "text": [
      "PTT.csv : [16.9, 26.8, 31.3, 39.6, 150.0]\n",
      "PT.csv : [9.2, 13.2, 14.3, 16.3, 150.0]\n",
      "INR.csv : [0.0, 1.1, 1.3, 1.6, 22.8]\n",
      "age : [20.356943556570265, 69.46984113394217, 301.27569536402837]\n",
      "sofa : [0.0, 4.0, 20.0]\n",
      "sapsii : [6.0, 38.0, 114.0]\n"
     ]
    }
   ],
   "source": [
    "def quantized(dataframe,variables_list,number):\n",
    "    dataframe=dataframe.copy()\n",
    "    for i in variables_list:\n",
    "        point=[]\n",
    "        for num in range(number+1):\n",
    "            point.append(dataframe[i].quantile(0+(1/number)*(num)))\n",
    "        print(i,':',point)          \n",
    "        for j in range(1,number+1):\n",
    "            columns_index=i+str(round(point[j-1],2))+'-'+str(round(point[j],2))\n",
    "            dataframe[columns_index]=0\n",
    "            indexes=dataframe[(dataframe[i]<=point[j]) & (dataframe[i]>=point[j-1])].index\n",
    "            dataframe.loc[indexes, columns_index]=1\n",
    "    return dataframe\n",
    "data=quantized(data,['PTT.csv','PT.csv','INR.csv'],4)\n",
    "data=quantized(data,['age','sofa','sapsii'],2)"
   ]
  },
  {
   "cell_type": "code",
   "execution_count": 6,
   "metadata": {},
   "outputs": [],
   "source": [
    "data['sirs_dummy']=data['sirs'].map(lambda x:'sirs='+str(x))\n",
    "data=data.join(pd.get_dummies(data['sirs_dummy']))"
   ]
  },
  {
   "cell_type": "code",
   "execution_count": 7,
   "metadata": {},
   "outputs": [],
   "source": [
    "data.to_csv('result/original_dataV2.csv',index=False)"
   ]
  },
  {
   "cell_type": "code",
   "execution_count": null,
   "metadata": {},
   "outputs": [],
   "source": []
  }
 ],
 "metadata": {
  "kernelspec": {
   "display_name": "Python 3",
   "language": "python",
   "name": "python3"
  },
  "language_info": {
   "codemirror_mode": {
    "name": "ipython",
    "version": 3
   },
   "file_extension": ".py",
   "mimetype": "text/x-python",
   "name": "python",
   "nbconvert_exporter": "python",
   "pygments_lexer": "ipython3",
   "version": "3.7.8"
  }
 },
 "nbformat": 4,
 "nbformat_minor": 4
}
