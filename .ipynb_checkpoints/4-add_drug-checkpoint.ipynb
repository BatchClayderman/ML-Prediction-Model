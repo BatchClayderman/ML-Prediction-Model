{
 "cells": [
  {
   "cell_type": "code",
   "execution_count": 1,
   "metadata": {},
   "outputs": [],
   "source": [
    "import pandas as pd\n",
    "import datetime\n",
    "import os\n",
    "import numpy as np"
   ]
  },
  {
   "cell_type": "code",
   "execution_count": 2,
   "metadata": {},
   "outputs": [],
   "source": [
    "#load basic information file\n",
    "final_tableV8=pd.read_csv('result/final_tableV5.csv')\n",
    "temp=final_tableV8[['subject_id', 'intime_h', 'outtime_h']]"
   ]
  },
  {
   "cell_type": "code",
   "execution_count": 3,
   "metadata": {},
   "outputs": [],
   "source": [
    "#some funtions to convert time into hours\n",
    "def calculate_time(x):\n",
    "    if x=='nan': \n",
    "        return 'NaN'\n",
    "    else:\n",
    "        curTime = datetime.datetime.strptime(x,'%Y-%m-%d %H:%M:%S') \n",
    "        utcTime2 = datetime.datetime.strptime(\"1970-01-01 00:00:00\", '%Y-%m-%d %H:%M:%S')\n",
    "        metTime =  curTime - utcTime2 \n",
    "        timeStamp = metTime.days*24*3600 + metTime.seconds \n",
    "        return (timeStamp / 3600 + 87600 +72)\n",
    "    \n",
    "def transform_time(column_name):\n",
    "    drug[column_name+'_h']=drug[column_name].apply(lambda x: calculate_time(str(x)))"
   ]
  },
  {
   "cell_type": "code",
   "execution_count": 4,
   "metadata": {},
   "outputs": [],
   "source": [
    "#load all drug files in './MIMIC/drug'\n",
    "file_list=[]\n",
    "for root, dirs, files in os.walk('MIMIC data/drug'):  \n",
    "    file_list.append(files)"
   ]
  },
  {
   "cell_type": "code",
   "execution_count": 5,
   "metadata": {},
   "outputs": [],
   "source": [
    "#load and auto merge mean, min, max values of all drug files to final_tableV8\n",
    "for i in range(len(file_list[0])):\n",
    "    drug=pd.read_csv('MIMIC data/drug/'+file_list[0][i])\n",
    "    transform_time('startdate')\n",
    "    temp2=pd.merge(drug, temp, on='subject_id', how='left')\n",
    "    temp3=temp2[temp2['intime_h']<temp2['startdate_h']]\n",
    "    temp4=temp3[temp3['startdate_h']<temp3['intime_h']+48]\n",
    "    #temp5=temp4.drop_duplicates(subset='subject_id', keep='first')\n",
    "    \n",
    "    temp4['dose_val_rx']=temp4['dose_val_rx'].apply(pd.to_numeric, errors='coerce')\n",
    "    temp6=pd.DataFrame({'subject_id':temp4.groupby('subject_id')['dose_val_rx'].sum().index, \n",
    "                            file_list[0][i]+'_48':temp4.groupby('subject_id')['dose_val_rx'].sum().values})\n",
    "    final_tableV8=pd.merge(final_tableV8, temp6, on='subject_id', how='left')\n",
    "    final_tableV8[file_list[0][i]+'_48']=final_tableV8[file_list[0][i]+'_48'].fillna(0)"
   ]
  },
  {
   "cell_type": "code",
   "execution_count": 6,
   "metadata": {},
   "outputs": [],
   "source": [
    "#remove the following '#' to output final_tableV8 to specified location\n",
    "final_tableV8.to_csv('result/final_tableV5.csv', index=False)"
   ]
  },
  {
   "cell_type": "code",
   "execution_count": null,
   "metadata": {},
   "outputs": [],
   "source": []
  },
  {
   "cell_type": "code",
   "execution_count": null,
   "metadata": {},
   "outputs": [],
   "source": []
  }
 ],
 "metadata": {
  "kernelspec": {
   "display_name": "Python 3",
   "language": "python",
   "name": "python3"
  },
  "language_info": {
   "codemirror_mode": {
    "name": "ipython",
    "version": 3
   },
   "file_extension": ".py",
   "mimetype": "text/x-python",
   "name": "python",
   "nbconvert_exporter": "python",
   "pygments_lexer": "ipython3",
   "version": "3.7.8"
  }
 },
 "nbformat": 4,
 "nbformat_minor": 4
}
