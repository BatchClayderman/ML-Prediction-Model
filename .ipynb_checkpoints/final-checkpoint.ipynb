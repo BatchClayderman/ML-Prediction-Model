{
 "cells": [
  {
   "cell_type": "code",
   "execution_count": 1,
   "metadata": {},
   "outputs": [],
   "source": [
    "import pandas as pd\n",
    "import myFunction as mf\n",
    "from sklearn.ensemble import RandomForestClassifier\n",
    "from sklearn.linear_model import LogisticRegression\n",
    "from sklearn import metrics\n",
    "from sklearn.metrics import auc, roc_curve\n",
    "import matplotlib.pyplot as plt\n",
    "from sklearn.model_selection import GridSearchCV\n",
    "from sklearn.svm import SVC\n",
    "import warnings\n",
    "from sklearn.externals import joblib\n",
    "#import joblib\n",
    "from xgboost.sklearn import XGBClassifier\n",
    "import random\n",
    "from sklearn.utils import shuffle\n",
    "from scipy import stats\n",
    "import myFunction as mf\n",
    "from sklearn.neural_network import MLPClassifier\n",
    "warnings.filterwarnings(\"ignore\")\n",
    "pd.set_option('display.max_columns', None) #show all columns\n",
    "pd.set_option('max_colwidth',None)"
   ]
  },
  {
   "cell_type": "code",
   "execution_count": 3,
   "metadata": {},
   "outputs": [
    {
     "ename": "KeyError",
     "evalue": "\"['family history of stroke.csv', 'thrombocytopenia', 'sodium.csv_mean', 'septic_shock', 'potassium.csv_mean', 'diasbp_mean', 'urea nitrogen.csv_mean', 'pt', 'hematocrit', 'totalco2_mean', 'hemoglobin', 'baseexcess_mean', 'sysbp_mean', 'creatinine.csv_mean', 'urineoutput', 'platelet.csv_mean', 'inr', 'WBC.csv_mean', 'liver_dysfunction', 'calcium_mean', 'bicarbonate', 'spo2_mean', 'aniongap', 'glucose.csv_mean', 'ptt'] not in index\"",
     "output_type": "error",
     "traceback": [
      "\u001b[1;31m---------------------------------------------------------------------------\u001b[0m",
      "\u001b[1;31mKeyError\u001b[0m                                  Traceback (most recent call last)",
      "\u001b[1;32m<ipython-input-3-5ef9b99912b2>\u001b[0m in \u001b[0;36m<module>\u001b[1;34m\u001b[0m\n\u001b[0;32m     14\u001b[0m \u001b[0mdata\u001b[0m\u001b[1;33m=\u001b[0m\u001b[0mpd\u001b[0m\u001b[1;33m.\u001b[0m\u001b[0mread_csv\u001b[0m\u001b[1;33m(\u001b[0m\u001b[1;34m'result/aaaa.csv'\u001b[0m\u001b[1;33m)\u001b[0m\u001b[1;33m\u001b[0m\u001b[1;33m\u001b[0m\u001b[0m\n\u001b[0;32m     15\u001b[0m \u001b[0msplit_percentage\u001b[0m\u001b[1;33m=\u001b[0m\u001b[1;36m0.8\u001b[0m\u001b[1;33m\u001b[0m\u001b[1;33m\u001b[0m\u001b[0m\n\u001b[1;32m---> 16\u001b[1;33m \u001b[0msub_data\u001b[0m\u001b[1;33m=\u001b[0m\u001b[0mdata\u001b[0m\u001b[1;33m[\u001b[0m\u001b[0mlist\u001b[0m\u001b[1;33m(\u001b[0m\u001b[0mtrain_variables\u001b[0m\u001b[1;33m)\u001b[0m\u001b[1;33m+\u001b[0m\u001b[0moutcome_variables\u001b[0m\u001b[1;33m]\u001b[0m\u001b[1;33m\u001b[0m\u001b[1;33m\u001b[0m\u001b[0m\n\u001b[0m\u001b[0;32m     17\u001b[0m \u001b[0mtrain\u001b[0m\u001b[1;33m=\u001b[0m\u001b[0msub_data\u001b[0m\u001b[1;33m[\u001b[0m\u001b[1;33m:\u001b[0m\u001b[0mint\u001b[0m\u001b[1;33m(\u001b[0m\u001b[0mlen\u001b[0m\u001b[1;33m(\u001b[0m\u001b[0mdata\u001b[0m\u001b[1;33m)\u001b[0m\u001b[1;33m*\u001b[0m\u001b[0msplit_percentage\u001b[0m\u001b[1;33m)\u001b[0m\u001b[1;33m]\u001b[0m\u001b[1;33m\u001b[0m\u001b[1;33m\u001b[0m\u001b[0m\n\u001b[0;32m     18\u001b[0m \u001b[0mtest\u001b[0m\u001b[1;33m=\u001b[0m\u001b[0msub_data\u001b[0m\u001b[1;33m[\u001b[0m\u001b[0mint\u001b[0m\u001b[1;33m(\u001b[0m\u001b[0mlen\u001b[0m\u001b[1;33m(\u001b[0m\u001b[0mdata\u001b[0m\u001b[1;33m)\u001b[0m\u001b[1;33m*\u001b[0m\u001b[0msplit_percentage\u001b[0m\u001b[1;33m)\u001b[0m\u001b[1;33m:\u001b[0m\u001b[1;33m]\u001b[0m\u001b[1;33m\u001b[0m\u001b[1;33m\u001b[0m\u001b[0m\n",
      "\u001b[1;32md:\\program files\\python36\\lib\\site-packages\\pandas\\core\\frame.py\u001b[0m in \u001b[0;36m__getitem__\u001b[1;34m(self, key)\u001b[0m\n\u001b[0;32m   2906\u001b[0m             \u001b[1;32mif\u001b[0m \u001b[0mis_iterator\u001b[0m\u001b[1;33m(\u001b[0m\u001b[0mkey\u001b[0m\u001b[1;33m)\u001b[0m\u001b[1;33m:\u001b[0m\u001b[1;33m\u001b[0m\u001b[1;33m\u001b[0m\u001b[0m\n\u001b[0;32m   2907\u001b[0m                 \u001b[0mkey\u001b[0m \u001b[1;33m=\u001b[0m \u001b[0mlist\u001b[0m\u001b[1;33m(\u001b[0m\u001b[0mkey\u001b[0m\u001b[1;33m)\u001b[0m\u001b[1;33m\u001b[0m\u001b[1;33m\u001b[0m\u001b[0m\n\u001b[1;32m-> 2908\u001b[1;33m             \u001b[0mindexer\u001b[0m \u001b[1;33m=\u001b[0m \u001b[0mself\u001b[0m\u001b[1;33m.\u001b[0m\u001b[0mloc\u001b[0m\u001b[1;33m.\u001b[0m\u001b[0m_get_listlike_indexer\u001b[0m\u001b[1;33m(\u001b[0m\u001b[0mkey\u001b[0m\u001b[1;33m,\u001b[0m \u001b[0maxis\u001b[0m\u001b[1;33m=\u001b[0m\u001b[1;36m1\u001b[0m\u001b[1;33m,\u001b[0m \u001b[0mraise_missing\u001b[0m\u001b[1;33m=\u001b[0m\u001b[1;32mTrue\u001b[0m\u001b[1;33m)\u001b[0m\u001b[1;33m[\u001b[0m\u001b[1;36m1\u001b[0m\u001b[1;33m]\u001b[0m\u001b[1;33m\u001b[0m\u001b[1;33m\u001b[0m\u001b[0m\n\u001b[0m\u001b[0;32m   2909\u001b[0m \u001b[1;33m\u001b[0m\u001b[0m\n\u001b[0;32m   2910\u001b[0m         \u001b[1;31m# take() does not accept boolean indexers\u001b[0m\u001b[1;33m\u001b[0m\u001b[1;33m\u001b[0m\u001b[1;33m\u001b[0m\u001b[0m\n",
      "\u001b[1;32md:\\program files\\python36\\lib\\site-packages\\pandas\\core\\indexing.py\u001b[0m in \u001b[0;36m_get_listlike_indexer\u001b[1;34m(self, key, axis, raise_missing)\u001b[0m\n\u001b[0;32m   1252\u001b[0m             \u001b[0mkeyarr\u001b[0m\u001b[1;33m,\u001b[0m \u001b[0mindexer\u001b[0m\u001b[1;33m,\u001b[0m \u001b[0mnew_indexer\u001b[0m \u001b[1;33m=\u001b[0m \u001b[0max\u001b[0m\u001b[1;33m.\u001b[0m\u001b[0m_reindex_non_unique\u001b[0m\u001b[1;33m(\u001b[0m\u001b[0mkeyarr\u001b[0m\u001b[1;33m)\u001b[0m\u001b[1;33m\u001b[0m\u001b[1;33m\u001b[0m\u001b[0m\n\u001b[0;32m   1253\u001b[0m \u001b[1;33m\u001b[0m\u001b[0m\n\u001b[1;32m-> 1254\u001b[1;33m         \u001b[0mself\u001b[0m\u001b[1;33m.\u001b[0m\u001b[0m_validate_read_indexer\u001b[0m\u001b[1;33m(\u001b[0m\u001b[0mkeyarr\u001b[0m\u001b[1;33m,\u001b[0m \u001b[0mindexer\u001b[0m\u001b[1;33m,\u001b[0m \u001b[0maxis\u001b[0m\u001b[1;33m,\u001b[0m \u001b[0mraise_missing\u001b[0m\u001b[1;33m=\u001b[0m\u001b[0mraise_missing\u001b[0m\u001b[1;33m)\u001b[0m\u001b[1;33m\u001b[0m\u001b[1;33m\u001b[0m\u001b[0m\n\u001b[0m\u001b[0;32m   1255\u001b[0m         \u001b[1;32mreturn\u001b[0m \u001b[0mkeyarr\u001b[0m\u001b[1;33m,\u001b[0m \u001b[0mindexer\u001b[0m\u001b[1;33m\u001b[0m\u001b[1;33m\u001b[0m\u001b[0m\n\u001b[0;32m   1256\u001b[0m \u001b[1;33m\u001b[0m\u001b[0m\n",
      "\u001b[1;32md:\\program files\\python36\\lib\\site-packages\\pandas\\core\\indexing.py\u001b[0m in \u001b[0;36m_validate_read_indexer\u001b[1;34m(self, key, indexer, axis, raise_missing)\u001b[0m\n\u001b[0;32m   1302\u001b[0m             \u001b[1;32mif\u001b[0m \u001b[0mraise_missing\u001b[0m\u001b[1;33m:\u001b[0m\u001b[1;33m\u001b[0m\u001b[1;33m\u001b[0m\u001b[0m\n\u001b[0;32m   1303\u001b[0m                 \u001b[0mnot_found\u001b[0m \u001b[1;33m=\u001b[0m \u001b[0mlist\u001b[0m\u001b[1;33m(\u001b[0m\u001b[0mset\u001b[0m\u001b[1;33m(\u001b[0m\u001b[0mkey\u001b[0m\u001b[1;33m)\u001b[0m \u001b[1;33m-\u001b[0m \u001b[0mset\u001b[0m\u001b[1;33m(\u001b[0m\u001b[0max\u001b[0m\u001b[1;33m)\u001b[0m\u001b[1;33m)\u001b[0m\u001b[1;33m\u001b[0m\u001b[1;33m\u001b[0m\u001b[0m\n\u001b[1;32m-> 1304\u001b[1;33m                 \u001b[1;32mraise\u001b[0m \u001b[0mKeyError\u001b[0m\u001b[1;33m(\u001b[0m\u001b[1;34mf\"{not_found} not in index\"\u001b[0m\u001b[1;33m)\u001b[0m\u001b[1;33m\u001b[0m\u001b[1;33m\u001b[0m\u001b[0m\n\u001b[0m\u001b[0;32m   1305\u001b[0m \u001b[1;33m\u001b[0m\u001b[0m\n\u001b[0;32m   1306\u001b[0m             \u001b[1;31m# we skip the warning on Categorical\u001b[0m\u001b[1;33m\u001b[0m\u001b[1;33m\u001b[0m\u001b[1;33m\u001b[0m\u001b[0m\n",
      "\u001b[1;31mKeyError\u001b[0m: \"['family history of stroke.csv', 'thrombocytopenia', 'sodium.csv_mean', 'septic_shock', 'potassium.csv_mean', 'diasbp_mean', 'urea nitrogen.csv_mean', 'pt', 'hematocrit', 'totalco2_mean', 'hemoglobin', 'baseexcess_mean', 'sysbp_mean', 'creatinine.csv_mean', 'urineoutput', 'platelet.csv_mean', 'inr', 'WBC.csv_mean', 'liver_dysfunction', 'calcium_mean', 'bicarbonate', 'spo2_mean', 'aniongap', 'glucose.csv_mean', 'ptt'] not in index\""
     ]
    }
   ],
   "source": [
    "#train test data split\n",
    "train_variables=['gender', 'age', 'vasopressin',  'urineoutput', 'heartrate_mean', \n",
    "                 'sysbp_mean', 'diasbp_mean', 'resprate_mean', 'tempc_mean', 'spo2_mean',\n",
    "                 'baseexcess_mean', 'totalco2_mean', 'calcium_mean', 'lactate_mean', \n",
    "       'pco2_mean', 'ph_mean', 'po2_mean',\n",
    "       'coronary heart disease.csv', 'diabetes.csv', 'family history of stroke.csv', \n",
    "       'creatinine.csv_mean',\n",
    "       'glucose.csv_mean', 'platelet.csv_mean', 'potassium.csv_mean',\n",
    "       'sodium.csv_mean', 'urea nitrogen.csv_mean', 'WBC.csv_mean', 'aniongap',\n",
    "       'bicarbonate', 'hematocrit', 'hemoglobin', 'ptt', 'inr', 'pt', 'BMI']\n",
    "outcome_variables=['liver_dysfunction','thrombocytopenia','hospital_mortality',\n",
    "                  'septic_shock']\n",
    "#outcome_variables=['liver_dysfunction']\n",
    "data=pd.read_csv('result/trainAndTestV6.csv')\n",
    "split_percentage=0.8\n",
    "sub_data=data[list(train_variables)+outcome_variables]\n",
    "train=sub_data[:int(len(data)*split_percentage)]\n",
    "test=sub_data[int(len(data)*split_percentage):]"
   ]
  },
  {
   "cell_type": "code",
   "execution_count": null,
   "metadata": {},
   "outputs": [],
   "source": [
    "# XGBoost\n",
    "report=[]\n",
    "count=0\n",
    "\n",
    "min_child_weight_list=[0.2]\n",
    "for mark1,scale_pos_weight in enumerate([3000]):\n",
    "    for mark2,n_estimators in enumerate([30]):\n",
    "        for mark3,max_depth in enumerate([3]):\n",
    "            for mark4,reg_lambda in enumerate([0.1]):\n",
    "                for mark5,gamma in enumerate([0.1]):\n",
    "                    for mark6, min_child_weight in enumerate(min_child_weight_list):\n",
    "                        for mark7, subsample in enumerate([0.3]):\n",
    "                            for mark8, max_delta_step in enumerate([3]):\n",
    "                                for i in outcome_variables:\n",
    "                                    count=count+1\n",
    "                                    parameters=[{'n_estimators': [n_estimators], \n",
    "                                                'max_depth': [max_depth],\n",
    "                                                'reg_lambda':[reg_lambda],\n",
    "                                                'gamma':[gamma],\n",
    "                                                'scale_pos_weight':[scale_pos_weight]}]\n",
    "                                    #model=GridSearchCV(XGBClassifier(n_jobs=-1), parameters)\n",
    "                                    model=XGBClassifier(n_jobs=-1, n_estimators=n_estimators, max_depth=max_depth,\n",
    "                                                      reg_lambda=reg_lambda,gamma=gamma,scale_pos_weight=scale_pos_weight,\n",
    "                                                       min_child_weight=min_child_weight,\n",
    "                                                       subsample=subsample,max_delta_step=max_delta_step)\n",
    "                                    model.fit(train[train_variables], train[i])\n",
    "                                    y_score=model.predict_proba(test[train_variables])[:,1]\n",
    "                                    fpr, tpr, _ = roc_curve(test[i], y_score)\n",
    "                                    AUROC=auc(fpr, tpr)\n",
    "                                    trainS=model.score(train[train_variables], train[i])\n",
    "                                    testS=model.score(test[train_variables], test[i])\n",
    "                                    f1S=metrics.f1_score(test[i], model.predict(test[train_variables]))\n",
    "                                    preS=metrics.precision_score(test[i], model.predict(test[train_variables]))\n",
    "                                    recS=metrics.recall_score(test[i], model.predict(test[train_variables]))\n",
    "                                    AUROC=auc(fpr, tpr)\n",
    "                                    feature_importance=pd.DataFrame({'column':train_variables, 'values':model.feature_importances_})\n",
    "                                    feature_importance.sort_values(by='values', axis=0, ascending=False, inplace=True)\n",
    "                                    report.append([trainS, testS, f1S, preS,recS,AUROC, i,\n",
    "                                                  feature_importance.iloc[0].values,feature_importance.iloc[1].values,feature_importance.iloc[2].values,\n",
    "                                                  feature_importance.iloc[3].values,feature_importance.iloc[4].values,scale_pos_weight,\n",
    "                                                  n_estimators,max_depth,reg_lambda,gamma,min_child_weight,\n",
    "                                                  subsample,max_delta_step])\n",
    "                                    print(i,':',count)\n",
    "                                    print(trainS,'-',testS,'-',f1S,'-',preS,'-',recS,'-',AUROC,'-', \n",
    "                                          scale_pos_weight,n_estimators,max_depth,reg_lambda,gamma,min_child_weight)\n",
    "                                    print('---------------------------------')\n",
    "                                    joblib.dump(model, 'result/trained models/XGB_models/'+i+'_XGB.model')\n",
    "    res=pd.DataFrame(report)\n",
    "    res.to_csv('result/final-test-report.csv')\n",
    "    "
   ]
  },
  {
   "cell_type": "code",
   "execution_count": null,
   "metadata": {},
   "outputs": [],
   "source": []
  }
 ],
 "metadata": {
  "kernelspec": {
   "display_name": "Python 3",
   "language": "python",
   "name": "python3"
  },
  "language_info": {
   "codemirror_mode": {
    "name": "ipython",
    "version": 3
   },
   "file_extension": ".py",
   "mimetype": "text/x-python",
   "name": "python",
   "nbconvert_exporter": "python",
   "pygments_lexer": "ipython3",
   "version": "3.6.8"
  }
 },
 "nbformat": 4,
 "nbformat_minor": 4
}
