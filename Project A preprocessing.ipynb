{
 "cells": [
  {
   "cell_type": "code",
   "execution_count": 17,
   "metadata": {},
   "outputs": [],
   "source": [
    "import os\n",
    "import pandas as pd\n",
    "import myFunction as mf"
   ]
  },
  {
   "cell_type": "code",
   "execution_count": 18,
   "metadata": {},
   "outputs": [],
   "source": [
    "data=pd.read_csv('C:/Programs/Python Project/result/final_tableV7.csv')"
   ]
  },
  {
   "cell_type": "code",
   "execution_count": 19,
   "metadata": {},
   "outputs": [],
   "source": [
    "sub1=data[data['age']>=18]\n",
    "sub2=sub1[sub1['PTT.csv'].notnull() & sub1['INR.csv'].notnull()]"
   ]
  },
  {
   "cell_type": "code",
   "execution_count": 20,
   "metadata": {},
   "outputs": [],
   "source": [
    "new_data=sub2[(sub2['HbA1c.csv']>=6.5) | (sub2['diabetes 250XX.csv']==1)]"
   ]
  },
  {
   "cell_type": "code",
   "execution_count": 21,
   "metadata": {},
   "outputs": [
    {
     "name": "stderr",
     "output_type": "stream",
     "text": [
      "c:\\programs\\python project\\venv\\lib\\site-packages\\pandas\\core\\frame.py:3997: SettingWithCopyWarning: \n",
      "A value is trying to be set on a copy of a slice from a DataFrame\n",
      "\n",
      "See the caveats in the documentation: https://pandas.pydata.org/pandas-docs/stable/user_guide/indexing.html#returning-a-view-versus-a-copy\n",
      "  errors=errors,\n"
     ]
    }
   ],
   "source": [
    "drop_list=['vasopressin','apsiii','urineoutput', 'lods', 'mingcs', 'infection', 'explicit_sepsis',\n",
    "       'organ_dysfunction', 'mech_vent', 'angus','aado2','baseexcess','totalco2', 'carboxyhemoglobin', 'chloride', \n",
    "          'intubated','o2flow', 'fio2', 'so2', 'pco2', 'peep', 'ph', 'po2',\n",
    "       'potassium', 'requiredo2', 'sodium', 'temperature', 'tidalvolume','bicarbonate', 'calcium',\n",
    "       'glucose', 'hematocrit', 'hemoglobin', 'lactate', 'methemoglobin',]\n",
    "new_data.drop(drop_list,axis=1,inplace=True)\n"
   ]
  },
  {
   "cell_type": "code",
   "execution_count": 22,
   "metadata": {},
   "outputs": [],
   "source": [
    "counter=new_data.count()/6920"
   ]
  },
  {
   "cell_type": "code",
   "execution_count": 7,
   "metadata": {},
   "outputs": [],
   "source": [
    "pd.DataFrame([counter.index,counter]).to_excel('C:/Users/IceFr/Desktop/Project A_凝血功能与糖尿病患者预后的相关分析/report.xlsx')"
   ]
  },
  {
   "cell_type": "code",
   "execution_count": 23,
   "metadata": {},
   "outputs": [
    {
     "data": {
      "text/html": [
       "<div>\n",
       "<style scoped>\n",
       "    .dataframe tbody tr th:only-of-type {\n",
       "        vertical-align: middle;\n",
       "    }\n",
       "\n",
       "    .dataframe tbody tr th {\n",
       "        vertical-align: top;\n",
       "    }\n",
       "\n",
       "    .dataframe thead th {\n",
       "        text-align: right;\n",
       "    }\n",
       "</style>\n",
       "<table border=\"1\" class=\"dataframe\">\n",
       "  <thead>\n",
       "    <tr style=\"text-align: right;\">\n",
       "      <th></th>\n",
       "      <th>0</th>\n",
       "      <th>1</th>\n",
       "      <th>2</th>\n",
       "      <th>3</th>\n",
       "      <th>4</th>\n",
       "      <th>5</th>\n",
       "      <th>6</th>\n",
       "      <th>7</th>\n",
       "      <th>8</th>\n",
       "      <th>9</th>\n",
       "      <th>...</th>\n",
       "      <th>53</th>\n",
       "      <th>54</th>\n",
       "      <th>55</th>\n",
       "      <th>56</th>\n",
       "      <th>57</th>\n",
       "      <th>58</th>\n",
       "      <th>59</th>\n",
       "      <th>60</th>\n",
       "      <th>61</th>\n",
       "      <th>62</th>\n",
       "    </tr>\n",
       "  </thead>\n",
       "  <tbody>\n",
       "    <tr>\n",
       "      <th>0</th>\n",
       "      <td>subject_id</td>\n",
       "      <td>hadm_id</td>\n",
       "      <td>icustay_id</td>\n",
       "      <td>ethnicity</td>\n",
       "      <td>gender</td>\n",
       "      <td>first_careunit</td>\n",
       "      <td>los</td>\n",
       "      <td>height_first</td>\n",
       "      <td>weight_first</td>\n",
       "      <td>dob_h</td>\n",
       "      <td>...</td>\n",
       "      <td>pH.csv</td>\n",
       "      <td>platelet.csv</td>\n",
       "      <td>PT.csv</td>\n",
       "      <td>PTT.csv</td>\n",
       "      <td>RDW.csv</td>\n",
       "      <td>TBIL.csv</td>\n",
       "      <td>TCHO.csv</td>\n",
       "      <td>Triglyceride.csv</td>\n",
       "      <td>urea nitrogen.csv</td>\n",
       "      <td>WBC.csv</td>\n",
       "    </tr>\n",
       "    <tr>\n",
       "      <th>1</th>\n",
       "      <td>1</td>\n",
       "      <td>1</td>\n",
       "      <td>1</td>\n",
       "      <td>1</td>\n",
       "      <td>1</td>\n",
       "      <td>1</td>\n",
       "      <td>1</td>\n",
       "      <td>0.554046</td>\n",
       "      <td>0.939306</td>\n",
       "      <td>1</td>\n",
       "      <td>...</td>\n",
       "      <td>0.846676</td>\n",
       "      <td>0.997832</td>\n",
       "      <td>0.99552</td>\n",
       "      <td>1</td>\n",
       "      <td>0.997399</td>\n",
       "      <td>0.524422</td>\n",
       "      <td>0.132948</td>\n",
       "      <td>0.177023</td>\n",
       "      <td>0.997977</td>\n",
       "      <td>0.997254</td>\n",
       "    </tr>\n",
       "  </tbody>\n",
       "</table>\n",
       "<p>2 rows × 63 columns</p>\n",
       "</div>"
      ],
      "text/plain": [
       "           0        1           2          3       4               5    6   \\\n",
       "0  subject_id  hadm_id  icustay_id  ethnicity  gender  first_careunit  los   \n",
       "1           1        1           1          1       1               1    1   \n",
       "\n",
       "             7             8      9   ...        53            54       55  \\\n",
       "0  height_first  weight_first  dob_h  ...    pH.csv  platelet.csv   PT.csv   \n",
       "1      0.554046      0.939306      1  ...  0.846676      0.997832  0.99552   \n",
       "\n",
       "        56        57        58        59                60                 61  \\\n",
       "0  PTT.csv   RDW.csv  TBIL.csv  TCHO.csv  Triglyceride.csv  urea nitrogen.csv   \n",
       "1        1  0.997399  0.524422  0.132948          0.177023           0.997977   \n",
       "\n",
       "         62  \n",
       "0   WBC.csv  \n",
       "1  0.997254  \n",
       "\n",
       "[2 rows x 63 columns]"
      ]
     },
     "execution_count": 23,
     "metadata": {},
     "output_type": "execute_result"
    }
   ],
   "source": [
    "pd.DataFrame([counter.index,counter])"
   ]
  },
  {
   "cell_type": "code",
   "execution_count": 24,
   "metadata": {},
   "outputs": [],
   "source": [
    "drop_list2=['ALT.csv','anion_gap.csv','AST.csv','D-Dimer.csv','fibrinogen.csv',\n",
    "           'HbA1c.csv','HDL.csv','ketone.csv',\n",
    "            'LDL.csv','TCHO.csv','Triglyceride.csv']\n",
    "finaltable=new_data.drop(drop_list2,axis=1)"
   ]
  },
  {
   "cell_type": "code",
   "execution_count": 34,
   "metadata": {},
   "outputs": [],
   "source": [
    "mf.meanFill(finaltable,finaltable.columns[7:10],show=True )\n",
    "mf.meanFill(finaltable,finaltable.columns[11:],show=True )"
   ]
  },
  {
   "cell_type": "code",
   "execution_count": 38,
   "metadata": {},
   "outputs": [],
   "source": [
    "finaltable=finaltable[finaltable['los']>=2]"
   ]
  },
  {
   "cell_type": "code",
   "execution_count": 39,
   "metadata": {},
   "outputs": [],
   "source": [
    "finaltable.to_csv('C:/Programs/Python Project/result/original_data.csv',index=False)"
   ]
  },
  {
   "cell_type": "code",
   "execution_count": 2,
   "metadata": {},
   "outputs": [],
   "source": [
    "df=pd.read_csv('C:/Programs/Python Project/result/original_dataV2.csv')"
   ]
  },
  {
   "cell_type": "code",
   "execution_count": 40,
   "metadata": {},
   "outputs": [
    {
     "data": {
      "text/plain": [
       "11             NaN\n",
       "17       1534944.0\n",
       "30             NaN\n",
       "119      1405056.0\n",
       "175      1936200.0\n",
       "           ...    \n",
       "46452          NaN\n",
       "46458    1989048.0\n",
       "46460          NaN\n",
       "46472          NaN\n",
       "46474    1645728.0\n",
       "Name: dod_h, Length: 4026, dtype: float64"
      ]
     },
     "execution_count": 40,
     "metadata": {},
     "output_type": "execute_result"
    }
   ],
   "source": [
    "finaltable['dod_h']"
   ]
  },
  {
   "cell_type": "code",
   "execution_count": null,
   "metadata": {},
   "outputs": [],
   "source": []
  }
 ],
 "metadata": {
  "kernelspec": {
   "display_name": "Python 3",
   "language": "python",
   "name": "python3"
  },
  "language_info": {
   "codemirror_mode": {
    "name": "ipython",
    "version": 3
   },
   "file_extension": ".py",
   "mimetype": "text/x-python",
   "name": "python",
   "nbconvert_exporter": "python",
   "pygments_lexer": "ipython3",
   "version": "3.7.8"
  }
 },
 "nbformat": 4,
 "nbformat_minor": 4
}
