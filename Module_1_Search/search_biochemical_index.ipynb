{
 "cells": [
  {
   "cell_type": "code",
   "execution_count": 8,
   "metadata": {},
   "outputs": [],
   "source": [
    "import psycopg2\n",
    "import pandas as pd\n",
    "import numpy as np\n",
    "import os\n",
    "import sys\n",
    "sys.path.append(\"..\")\n",
    "import myFunction as mf\n",
    "pd.set_option('display.max_columns', None) #show all columns\n",
    "pd.set_option('max_colwidth',None)"
   ]
  },
  {
   "cell_type": "code",
   "execution_count": 9,
   "metadata": {},
   "outputs": [],
   "source": [
    "def search_biochemical_indexes(name='', download_as=''):\n",
    "    sample_number=[]\n",
    "    result1=pd.DataFrame({})\n",
    "    if(len(mf.search_table(s='*', f='d_labitems', w='label', like=name))!=0):\n",
    "        item_id=list(mf.search_table(s='*', f='d_labitems', w='label', like=name)['itemid'])\n",
    "        item_name=list(mf.search_table(s='*', f='d_labitems', w='label', like=name)['label'])\n",
    "        assert len(item_id)==len(item_name)\n",
    "        for i in range(len(item_id)):\n",
    "            search_result=mf.search_table(s='*', f='labevents', w='itemid', equal=str(item_id[i]))\n",
    "            result1=pd.concat([result1,pd.DataFrame(search_result)])\n",
    "        print('there are', len(item_id), 'related biochemical indexes of', name,' in labevents', ':\\n', \n",
    "              item_name)\n",
    "        #if(download_as!=''):\n",
    "        #    result1.to_csv(os.path.dirname(os.getcwd())+'/data/download data/'+download_as+'.csv', index=False)\n",
    "    sample_number=[]\n",
    "    result2=pd.DataFrame({})\n",
    "    if(len(mf.search_table(s='*', f='d_items', w='label', like=name))!=0):\n",
    "        item_id=list(mf.search_table(s='*', f='d_items', w='label', like=name)['itemid'])\n",
    "        item_name=list(mf.search_table(s='*', f='d_items', w='label', like=name)['label'])\n",
    "        assert len(item_id)==len(item_name)\n",
    "        \n",
    "        for i in range(len(item_id)):\n",
    "            if item_id[i]<127:\n",
    "                search_result=mf.search_table(s='*', f='chartevents_1', w='itemid', equal=str(item_id[i]))\n",
    "            elif item_id[i]<210:\n",
    "                search_result=mf.search_table(s='*', f='chartevents_2', w='itemid', equal=str(item_id[i]))\n",
    "            elif item_id[i]<425:\n",
    "                search_result=mf.search_table(s='*', f='chartevents_3', w='itemid', equal=str(item_id[i]))\n",
    "            elif item_id[i]<549:\n",
    "                search_result=mf.search_table(s='*', f='chartevents_4', w='itemid', equal=str(item_id[i]))\n",
    "            elif item_id[i]<643:\n",
    "                search_result=mf.search_table(s='*', f='chartevents_5', w='itemid', equal=str(item_id[i]))\n",
    "            elif item_id[i]<741:\n",
    "                search_result=mf.search_table(s='*', f='chartevents_6', w='itemid', equal=str(item_id[i]))\n",
    "            elif item_id[i]<1483:\n",
    "                search_result=mf.search_table(s='*', f='chartevents_7', w='itemid', equal=str(item_id[i]))\n",
    "            elif item_id[i]<3458:\n",
    "                search_result=mf.search_table(s='*', f='chartevents_8', w='itemid', equal=str(item_id[i]))\n",
    "            elif item_id[i]<3695:\n",
    "                search_result=mf.search_table(s='*', f='chartevents_9', w='itemid', equal=str(item_id[i]))\n",
    "            elif item_id[i]<8440:\n",
    "                search_result=mf.search_table(s='*', f='chartevents_10', w='itemid', equal=str(item_id[i]))\n",
    "            elif item_id[i]<8553:\n",
    "                search_result=mf.search_table(s='*', f='chartevents_11', w='itemid', equal=str(item_id[i]))\n",
    "            elif item_id[i]<220274:\n",
    "                search_result=mf.search_table(s='*', f='chartevents_12', w='itemid', equal=str(item_id[i]))    \n",
    "            elif item_id[i]<223921:\n",
    "                search_result=mf.search_table(s='*', f='chartevents_13', w='itemid', equal=str(item_id[i]))    \n",
    "            elif item_id[i]<224085:\n",
    "                search_result=mf.search_table(s='*', f='chartevents_14', w='itemid', equal=str(item_id[i]))\n",
    "            elif item_id[i]<224859:\n",
    "                search_result=mf.search_table(s='*', f='chartevents_15', w='itemid', equal=str(item_id[i]))\n",
    "            elif item_id[i]<227629:\n",
    "                search_result=mf.search_table(s='*', f='chartevents_16', w='itemid', equal=str(item_id[i]))\n",
    "            elif item_id[i]<999999999:\n",
    "                search_result=mf.search_table(s='*', f='chartevents_17', w='itemid', equal=str(item_id[i]))\n",
    "            result2=pd.concat([result2,pd.DataFrame(search_result)])\n",
    "        print('there are', len(item_id), 'related biochemical indexes of', name,' in items', ':\\n', \n",
    "              item_name)    \n",
    "        print(len(result1),len(result2))\n",
    "    if(download_as!=''):\n",
    "        pd.concat([result1,result2]).to_csv(os.path.dirname(os.getcwd())+'/data/merge data/biochemical indexes/'+download_as+'.csv', index=False)\n",
    "        \n",
    "    return pd.concat([result1,result2])"
   ]
  },
  {
   "cell_type": "code",
   "execution_count": 10,
   "metadata": {},
   "outputs": [],
   "source": [
    "def count_biochemical_indexes(name='', download_as=''):\n",
    "    sample_number=[]\n",
    "    item_name=[]\n",
    "    for x in name:\n",
    "        item_id=list(mf.search_table(s='*', f='d_labitems', w='label', like=x)['itemid'])\n",
    "        item_name.extend(list(mf.search_table(s='*', f='d_labitems', w='label', like=x)['label']))\n",
    "        for i in item_id:\n",
    "            sample_number.append(len(mf.search_table(s='*', f='labevents', w='itemid', equal=str(i)).drop_duplicates(subset='subject_id', keep='first')))\n",
    "    result1=pd.DataFrame({\"item_name\":item_name})\n",
    "    result1['number of samples']=sample_number\n",
    "    result1['percentage']=np.array(sample_number)/58976\n",
    "    result1['from']='labevents'\n",
    "    \n",
    "    sample_number=[]\n",
    "    item_name=[]\n",
    "    for x in name:\n",
    "        item_id=list(mf.search_table(s='*', f='d_items', w='label', like=x)['itemid'])\n",
    "        item_name.extend(list(mf.search_table(s='*', f='d_items', w='label', like=x)['label']))\n",
    "        for i in range(len(item_id)):\n",
    "            if item_id[i]<127:\n",
    "                search_result=mf.search_table(s='*', f='chartevents_1', w='itemid', equal=str(item_id[i]))\n",
    "            elif item_id[i]<210:\n",
    "                search_result=mf.search_table(s='*', f='chartevents_2', w='itemid', equal=str(item_id[i]))\n",
    "            elif item_id[i]<425:\n",
    "                search_result=mf.search_table(s='*', f='chartevents_3', w='itemid', equal=str(item_id[i]))\n",
    "            elif item_id[i]<549:\n",
    "                search_result=mf.search_table(s='*', f='chartevents_4', w='itemid', equal=str(item_id[i]))\n",
    "            elif item_id[i]<643:\n",
    "                search_result=mf.search_table(s='*', f='chartevents_5', w='itemid', equal=str(item_id[i]))\n",
    "            elif item_id[i]<741:\n",
    "                search_result=mf.search_table(s='*', f='chartevents_6', w='itemid', equal=str(item_id[i]))\n",
    "            elif item_id[i]<1483:\n",
    "                search_result=mf.search_table(s='*', f='chartevents_7', w='itemid', equal=str(item_id[i]))\n",
    "            elif item_id[i]<3458:\n",
    "                search_result=mf.search_table(s='*', f='chartevents_8', w='itemid', equal=str(item_id[i]))\n",
    "            elif item_id[i]<3695:\n",
    "                search_result=mf.search_table(s='*', f='chartevents_9', w='itemid', equal=str(item_id[i]))\n",
    "            elif item_id[i]<8440:\n",
    "                search_result=mf.search_table(s='*', f='chartevents_10', w='itemid', equal=str(item_id[i]))\n",
    "            elif item_id[i]<8553:\n",
    "                search_result=mf.search_table(s='*', f='chartevents_11', w='itemid', equal=str(item_id[i]))\n",
    "            elif item_id[i]<220274:\n",
    "                search_result=mf.search_table(s='*', f='chartevents_12', w='itemid', equal=str(item_id[i]))    \n",
    "            elif item_id[i]<223921:\n",
    "                search_result=mf.search_table(s='*', f='chartevents_13', w='itemid', equal=str(item_id[i]))    \n",
    "            elif item_id[i]<224085:\n",
    "                search_result=mf.search_table(s='*', f='chartevents_14', w='itemid', equal=str(item_id[i]))\n",
    "            elif item_id[i]<224859:\n",
    "                search_result=mf.search_table(s='*', f='chartevents_15', w='itemid', equal=str(item_id[i]))\n",
    "            elif item_id[i]<227629:\n",
    "                search_result=mf.search_table(s='*', f='chartevents_16', w='itemid', equal=str(item_id[i]))\n",
    "            elif item_id[i]<999999999:\n",
    "                search_result=mf.search_table(s='*', f='chartevents_17', w='itemid', equal=str(item_id[i]))\n",
    "            if(len(search_result)==0): \n",
    "                sample_number.append(0)\n",
    "            else:\n",
    "                sample_number.append(len(search_result.drop_duplicates(subset='subject_id', keep='first')))\n",
    "    result2=pd.DataFrame({\"item_name\":item_name})\n",
    "    result2['number of samples']=sample_number\n",
    "    result2['percentage']=np.array(sample_number)/58976\n",
    "    result2['from']='items'\n",
    "    return pd.concat([result1, result2])"
   ]
  },
  {
   "cell_type": "code",
   "execution_count": 13,
   "metadata": {},
   "outputs": [
    {
     "ename": "TypeError",
     "evalue": "list indices must be integers or slices, not str",
     "output_type": "error",
     "traceback": [
      "\u001b[1;31m---------------------------------------------------------------------------\u001b[0m",
      "\u001b[1;31mTypeError\u001b[0m                                 Traceback (most recent call last)",
      "\u001b[1;32m<ipython-input-13-8f7096e7bcc7>\u001b[0m in \u001b[0;36m<module>\u001b[1;34m\u001b[0m\n\u001b[1;32m----> 1\u001b[1;33m \u001b[0mcount_biochemical_indexes\u001b[0m\u001b[1;33m(\u001b[0m\u001b[1;33m[\u001b[0m\u001b[1;34m'xidase'\u001b[0m\u001b[1;33m]\u001b[0m\u001b[1;33m)\u001b[0m\u001b[1;33m\u001b[0m\u001b[1;33m\u001b[0m\u001b[0m\n\u001b[0m",
      "\u001b[1;32m<ipython-input-10-1b101ac90f4a>\u001b[0m in \u001b[0;36mcount_biochemical_indexes\u001b[1;34m(name, download_as)\u001b[0m\n\u001b[0;32m     15\u001b[0m     \u001b[0mitem_name\u001b[0m\u001b[1;33m=\u001b[0m\u001b[1;33m[\u001b[0m\u001b[1;33m]\u001b[0m\u001b[1;33m\u001b[0m\u001b[1;33m\u001b[0m\u001b[0m\n\u001b[0;32m     16\u001b[0m     \u001b[1;32mfor\u001b[0m \u001b[0mx\u001b[0m \u001b[1;32min\u001b[0m \u001b[0mname\u001b[0m\u001b[1;33m:\u001b[0m\u001b[1;33m\u001b[0m\u001b[1;33m\u001b[0m\u001b[0m\n\u001b[1;32m---> 17\u001b[1;33m         \u001b[0mitem_id\u001b[0m\u001b[1;33m=\u001b[0m\u001b[0mlist\u001b[0m\u001b[1;33m(\u001b[0m\u001b[0mmf\u001b[0m\u001b[1;33m.\u001b[0m\u001b[0msearch_table\u001b[0m\u001b[1;33m(\u001b[0m\u001b[0ms\u001b[0m\u001b[1;33m=\u001b[0m\u001b[1;34m'*'\u001b[0m\u001b[1;33m,\u001b[0m \u001b[0mf\u001b[0m\u001b[1;33m=\u001b[0m\u001b[1;34m'd_items'\u001b[0m\u001b[1;33m,\u001b[0m \u001b[0mw\u001b[0m\u001b[1;33m=\u001b[0m\u001b[1;34m'label'\u001b[0m\u001b[1;33m,\u001b[0m \u001b[0mlike\u001b[0m\u001b[1;33m=\u001b[0m\u001b[0mx\u001b[0m\u001b[1;33m)\u001b[0m\u001b[1;33m[\u001b[0m\u001b[1;34m'itemid'\u001b[0m\u001b[1;33m]\u001b[0m\u001b[1;33m)\u001b[0m\u001b[1;33m\u001b[0m\u001b[1;33m\u001b[0m\u001b[0m\n\u001b[0m\u001b[0;32m     18\u001b[0m         \u001b[0mitem_name\u001b[0m\u001b[1;33m.\u001b[0m\u001b[0mextend\u001b[0m\u001b[1;33m(\u001b[0m\u001b[0mlist\u001b[0m\u001b[1;33m(\u001b[0m\u001b[0mmf\u001b[0m\u001b[1;33m.\u001b[0m\u001b[0msearch_table\u001b[0m\u001b[1;33m(\u001b[0m\u001b[0ms\u001b[0m\u001b[1;33m=\u001b[0m\u001b[1;34m'*'\u001b[0m\u001b[1;33m,\u001b[0m \u001b[0mf\u001b[0m\u001b[1;33m=\u001b[0m\u001b[1;34m'd_items'\u001b[0m\u001b[1;33m,\u001b[0m \u001b[0mw\u001b[0m\u001b[1;33m=\u001b[0m\u001b[1;34m'label'\u001b[0m\u001b[1;33m,\u001b[0m \u001b[0mlike\u001b[0m\u001b[1;33m=\u001b[0m\u001b[0mx\u001b[0m\u001b[1;33m)\u001b[0m\u001b[1;33m[\u001b[0m\u001b[1;34m'label'\u001b[0m\u001b[1;33m]\u001b[0m\u001b[1;33m)\u001b[0m\u001b[1;33m)\u001b[0m\u001b[1;33m\u001b[0m\u001b[1;33m\u001b[0m\u001b[0m\n\u001b[0;32m     19\u001b[0m         \u001b[1;32mfor\u001b[0m \u001b[0mi\u001b[0m \u001b[1;32min\u001b[0m \u001b[0mrange\u001b[0m\u001b[1;33m(\u001b[0m\u001b[0mlen\u001b[0m\u001b[1;33m(\u001b[0m\u001b[0mitem_id\u001b[0m\u001b[1;33m)\u001b[0m\u001b[1;33m)\u001b[0m\u001b[1;33m:\u001b[0m\u001b[1;33m\u001b[0m\u001b[1;33m\u001b[0m\u001b[0m\n",
      "\u001b[1;31mTypeError\u001b[0m: list indices must be integers or slices, not str"
     ]
    }
   ],
   "source": [
    "count_biochemical_indexes([''])"
   ]
  },
  {
   "cell_type": "code",
   "execution_count": 40,
   "metadata": {},
   "outputs": [
    {
     "data": {
      "text/html": [
       "<div>\n",
       "<style scoped>\n",
       "    .dataframe tbody tr th:only-of-type {\n",
       "        vertical-align: middle;\n",
       "    }\n",
       "\n",
       "    .dataframe tbody tr th {\n",
       "        vertical-align: top;\n",
       "    }\n",
       "\n",
       "    .dataframe thead th {\n",
       "        text-align: right;\n",
       "    }\n",
       "</style>\n",
       "<table border=\"1\" class=\"dataframe\">\n",
       "  <thead>\n",
       "    <tr style=\"text-align: right;\">\n",
       "      <th></th>\n",
       "    </tr>\n",
       "  </thead>\n",
       "  <tbody>\n",
       "  </tbody>\n",
       "</table>\n",
       "</div>"
      ],
      "text/plain": [
       "Empty DataFrame\n",
       "Columns: []\n",
       "Index: []"
      ]
     },
     "execution_count": 40,
     "metadata": {},
     "output_type": "execute_result"
    }
   ],
   "source": [
    "search_biochemical_indexes('gout',download_as='')"
   ]
  },
  {
   "cell_type": "code",
   "execution_count": null,
   "metadata": {},
   "outputs": [],
   "source": []
  },
  {
   "cell_type": "code",
   "execution_count": null,
   "metadata": {},
   "outputs": [],
   "source": []
  },
  {
   "cell_type": "code",
   "execution_count": null,
   "metadata": {},
   "outputs": [],
   "source": []
  }
 ],
 "metadata": {
  "kernelspec": {
   "display_name": "Python 3",
   "language": "python",
   "name": "python3"
  },
  "language_info": {
   "codemirror_mode": {
    "name": "ipython",
    "version": 3
   },
   "file_extension": ".py",
   "mimetype": "text/x-python",
   "name": "python",
   "nbconvert_exporter": "python",
   "pygments_lexer": "ipython3",
   "version": "3.7.8"
  }
 },
 "nbformat": 4,
 "nbformat_minor": 4
}
