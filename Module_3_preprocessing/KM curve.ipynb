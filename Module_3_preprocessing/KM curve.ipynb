{
 "cells": [
  {
   "cell_type": "code",
   "execution_count": 45,
   "metadata": {},
   "outputs": [],
   "source": [
    "from lifelines.datasets import load_waltons\n",
    "from lifelines import KaplanMeierFitter\n",
    "from lifelines.utils import median_survival_times\n",
    "import os\n",
    "import sys\n",
    "sys.path.append(\"..\")\n",
    "import pandas as pd\n",
    "import matplotlib.pyplot as plt"
   ]
  },
  {
   "cell_type": "code",
   "execution_count": 46,
   "metadata": {},
   "outputs": [],
   "source": [
    "data=pd.read_csv(os.path.dirname(os.getcwd())+'/Python Project/result/AKI.csv')"
   ]
  },
  {
   "cell_type": "code",
   "execution_count": 47,
   "metadata": {},
   "outputs": [
    {
     "data": {
      "image/png": "[encoded data removed]",
      "text/plain": [
       "<Figure size 432x288 with 1 Axes>"
      ]
     },
     "metadata": {
      "needs_background": "light"
     },
     "output_type": "display_data"
    }
   ],
   "source": [
    "ax = plt.subplot(111)\n",
    "kmf = KaplanMeierFitter()\n",
    "group=['aki_0','aki_1', 'aki_2', 'aki_3']\n",
    "legend=['No AKI','AKI_1', 'AKI_2', 'AKI_3']\n",
    "for i in range(len(group)):\n",
    "    kmf.fit(data[data[group[i]]==1]['365_surviving_time'], \n",
    "            event_observed=data[data[group[i]]==1]['365_mortality'], timeline=range(0,365),label=legend[i])\n",
    "    kmf.survival_function_.plot(ax=ax)\n",
    "    \n",
    "plt.title(\"KM Curve of AKI\")\n",
    "plt.savefig('result/AKI.tif', dpi=1000)"
   ]
  },
  {
   "cell_type": "code",
   "execution_count": 50,
   "metadata": {},
   "outputs": [
    {
     "data": {
      "text/plain": [
       "Index(['subject_id', 'hadm_id', 'icustay_id', 'ethnicity', 'gender',\n",
       "       'first_careunit', 'los', 'dob_h', 'dod_h', 'admittime_h', 'dischtime_h',\n",
       "       'intime_h', 'outtime_h', 'hospital_mortality', '30_mortality',\n",
       "       '90_mortality', '365_mortality', 'age', 'sofa', 'sirs', 'sapsii', 'rrt',\n",
       "       'cardiac dysrhythmia.csv', 'CKD.csv', 'Congestive heart failure.csv',\n",
       "       'diabetes 250XX.csv', 'has_surgery.csv', 'hypertension.csv',\n",
       "       'liver disease.csv', 'Malignancy.csv', 'pulmonary circulation.csv',\n",
       "       'use_drug.csv', 'Albumin.csv', 'bicarbonate.csv', 'Calcium.csv',\n",
       "       'creatinine.csv', 'glucose.csv', 'Hematocrit.csv', 'Hemoglobin.csv',\n",
       "       'INR.csv', 'lactic acid.csv', 'pH.csv', 'platelet.csv', 'PT.csv',\n",
       "       'PTT.csv', 'RDW.csv', 'TBIL.csv', 'urea nitrogen.csv', 'WBC.csv', 'BMI',\n",
       "       '365_surviving_time', '30_surviving_time', 'PTT.csv16.9-26.8',\n",
       "       'PTT.csv26.8-31.3', 'PTT.csv31.3-39.6', 'PTT.csv39.6-150.0',\n",
       "       'PT.csv9.2-13.2', 'PT.csv13.2-14.3', 'PT.csv14.3-16.3',\n",
       "       'PT.csv16.3-150.0', 'INR.csv0.0-1.1', 'INR.csv1.1-1.3',\n",
       "       'INR.csv1.3-1.6', 'INR.csv1.6-22.8', 'age20.36-69.47',\n",
       "       'age69.47-301.28', 'sofa0.0-4.0', 'sofa4.0-20.0', 'sapsii6.0-38.0',\n",
       "       'sapsii38.0-114.0', 'sirs_dummy', 'sirs=0', 'sirs=1', 'sirs=2',\n",
       "       'sirs=3', 'sirs=4'],\n",
       "      dtype='object')"
      ]
     },
     "execution_count": 50,
     "metadata": {},
     "output_type": "execute_result"
    }
   ],
   "source": [
    "data.columns"
   ]
  },
  {
   "cell_type": "code",
   "execution_count": null,
   "metadata": {},
   "outputs": [],
   "source": []
  },
  {
   "cell_type": "code",
   "execution_count": 72,
   "metadata": {},
   "outputs": [
    {
     "name": "stdout",
     "output_type": "stream",
     "text": [
      "       var1      var2      var3          T  E\n",
      "0  0.595170  1.143472  1.571079  14.785652  1\n",
      "1  0.209325  0.184677  0.356980   7.335846  1\n",
      "2  0.693919  0.071893  0.557960   5.269797  1\n",
      "3  0.443804  1.364646  0.374221  11.684092  1\n",
      "4  1.613324  0.125566  1.921325   7.639492  1\n",
      "1    189\n",
      "0     11\n",
      "Name: E, dtype: int64\n",
      "count       200\n",
      "unique        2\n",
      "top       False\n",
      "freq        189\n",
      "Name: E, dtype: object\n"
     ]
    }
   ],
   "source": [
    "from lifelines.datasets import load_regression_dataset\n",
    "from lifelines import CoxPHFitter\n",
    "\n",
    "regression_dataset = load_regression_dataset()\n",
    "\n",
    "print(regression_dataset.head())\n",
    "print(regression_dataset['E'].value_counts())\n",
    "print((regression_dataset['E']==0).describe())"
   ]
  },
  {
   "cell_type": "code",
   "execution_count": 35,
   "metadata": {},
   "outputs": [
    {
     "data": {
      "text/html": [
       "<div>\n",
       "<style scoped>\n",
       "    .dataframe tbody tr th:only-of-type {\n",
       "        vertical-align: middle;\n",
       "    }\n",
       "\n",
       "    .dataframe tbody tr th {\n",
       "        vertical-align: top;\n",
       "    }\n",
       "\n",
       "    .dataframe thead th {\n",
       "        text-align: right;\n",
       "    }\n",
       "</style>\n",
       "<table border=\"1\" class=\"dataframe\">\n",
       "  <tbody>\n",
       "    <tr>\n",
       "      <th>model</th>\n",
       "      <td>lifelines.CoxPHFitter</td>\n",
       "    </tr>\n",
       "    <tr>\n",
       "      <th>duration col</th>\n",
       "      <td>'T'</td>\n",
       "    </tr>\n",
       "    <tr>\n",
       "      <th>event col</th>\n",
       "      <td>'E'</td>\n",
       "    </tr>\n",
       "    <tr>\n",
       "      <th>baseline estimation</th>\n",
       "      <td>breslow</td>\n",
       "    </tr>\n",
       "    <tr>\n",
       "      <th>number of observations</th>\n",
       "      <td>200</td>\n",
       "    </tr>\n",
       "    <tr>\n",
       "      <th>number of events observed</th>\n",
       "      <td>189</td>\n",
       "    </tr>\n",
       "    <tr>\n",
       "      <th>partial log-likelihood</th>\n",
       "      <td>-807.62</td>\n",
       "    </tr>\n",
       "    <tr>\n",
       "      <th>time fit was run</th>\n",
       "      <td>2020-07-18 05:39:24 UTC</td>\n",
       "    </tr>\n",
       "  </tbody>\n",
       "</table>\n",
       "</div><table border=\"1\" class=\"dataframe\">\n",
       "  <thead>\n",
       "    <tr style=\"text-align: right;\">\n",
       "      <th></th>\n",
       "      <th>coef</th>\n",
       "      <th>exp(coef)</th>\n",
       "      <th>se(coef)</th>\n",
       "      <th>coef lower 95%</th>\n",
       "      <th>coef upper 95%</th>\n",
       "      <th>exp(coef) lower 95%</th>\n",
       "      <th>exp(coef) upper 95%</th>\n",
       "      <th>z</th>\n",
       "      <th>p</th>\n",
       "      <th>-log2(p)</th>\n",
       "    </tr>\n",
       "  </thead>\n",
       "  <tbody>\n",
       "    <tr>\n",
       "      <th>var1</th>\n",
       "      <td>0.22</td>\n",
       "      <td>1.25</td>\n",
       "      <td>0.07</td>\n",
       "      <td>0.08</td>\n",
       "      <td>0.37</td>\n",
       "      <td>1.08</td>\n",
       "      <td>1.44</td>\n",
       "      <td>2.99</td>\n",
       "      <td>&lt;0.005</td>\n",
       "      <td>8.49</td>\n",
       "    </tr>\n",
       "    <tr>\n",
       "      <th>var2</th>\n",
       "      <td>0.05</td>\n",
       "      <td>1.05</td>\n",
       "      <td>0.08</td>\n",
       "      <td>-0.11</td>\n",
       "      <td>0.21</td>\n",
       "      <td>0.89</td>\n",
       "      <td>1.24</td>\n",
       "      <td>0.61</td>\n",
       "      <td>0.54</td>\n",
       "      <td>0.89</td>\n",
       "    </tr>\n",
       "    <tr>\n",
       "      <th>var3</th>\n",
       "      <td>0.22</td>\n",
       "      <td>1.24</td>\n",
       "      <td>0.08</td>\n",
       "      <td>0.07</td>\n",
       "      <td>0.37</td>\n",
       "      <td>1.07</td>\n",
       "      <td>1.44</td>\n",
       "      <td>2.88</td>\n",
       "      <td>&lt;0.005</td>\n",
       "      <td>7.97</td>\n",
       "    </tr>\n",
       "  </tbody>\n",
       "</table><div>\n",
       "<style scoped>\n",
       "    .dataframe tbody tr th:only-of-type {\n",
       "        vertical-align: middle;\n",
       "    }\n",
       "\n",
       "    .dataframe tbody tr th {\n",
       "        vertical-align: top;\n",
       "    }\n",
       "\n",
       "    .dataframe thead th {\n",
       "        text-align: right;\n",
       "    }\n",
       "</style>\n",
       "<table border=\"1\" class=\"dataframe\">\n",
       "  <tbody>\n",
       "    <tr>\n",
       "      <th>Concordance</th>\n",
       "      <td>0.58</td>\n",
       "    </tr>\n",
       "    <tr>\n",
       "      <th>Partial AIC</th>\n",
       "      <td>1621.24</td>\n",
       "    </tr>\n",
       "    <tr>\n",
       "      <th>log-likelihood ratio test</th>\n",
       "      <td>15.54 on 3 df</td>\n",
       "    </tr>\n",
       "    <tr>\n",
       "      <th>-log2(p) of ll-ratio test</th>\n",
       "      <td>9.47</td>\n",
       "    </tr>\n",
       "  </tbody>\n",
       "</table>\n",
       "</div>"
      ],
      "text/plain": [
       "<IPython.core.display.HTML object>"
      ]
     },
     "metadata": {},
     "output_type": "display_data"
    }
   ],
   "source": [
    "cph = CoxPHFitter()\n",
    "cph.fit(regression_dataset, 'T', event_col='E')\n",
    "cph.print_summary()"
   ]
  },
  {
   "cell_type": "code",
   "execution_count": null,
   "metadata": {},
   "outputs": [],
   "source": []
  },
  {
   "cell_type": "code",
   "execution_count": 16,
   "metadata": {},
   "outputs": [
    {
     "data": {
      "text/plain": [
       "0.0    3522\n",
       "1.0     504\n",
       "Name: CKD.csv, dtype: int64"
      ]
     },
     "execution_count": 16,
     "metadata": {},
     "output_type": "execute_result"
    }
   ],
   "source": [
    "data['CKD.csv'].value_counts()"
   ]
  },
  {
   "cell_type": "code",
   "execution_count": null,
   "metadata": {},
   "outputs": [],
   "source": []
  },
  {
   "cell_type": "code",
   "execution_count": null,
   "metadata": {},
   "outputs": [],
   "source": []
  },
  {
   "cell_type": "code",
   "execution_count": null,
   "metadata": {},
   "outputs": [],
   "source": []
  },
  {
   "cell_type": "code",
   "execution_count": null,
   "metadata": {},
   "outputs": [],
   "source": []
  }
 ],
 "metadata": {
  "kernelspec": {
   "display_name": "Python 3",
   "language": "python",
   "name": "python3"
  },
  "language_info": {
   "codemirror_mode": {
    "name": "ipython",
    "version": 3
   },
   "file_extension": ".py",
   "mimetype": "text/x-python",
   "name": "python",
   "nbconvert_exporter": "python",
   "pygments_lexer": "ipython3",
   "version": "3.7.8"
  }
 },
 "nbformat": 4,
 "nbformat_minor": 4
}
